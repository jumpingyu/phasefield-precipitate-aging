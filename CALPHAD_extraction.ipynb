{
 "cells": [
  {
   "cell_type": "markdown",
   "metadata": {},
   "source": [
    "# Gibbs free energy expressions for IN625 from ternary CALPHAD DB"
   ]
  },
  {
   "cell_type": "markdown",
   "metadata": {},
   "source": [
    "This notebook extracts relevant thermodynamic functions necessary for the phase-field model of solid-state transformations in additive superalloy 625, represented as a ternary (Mo-Nb-Ni) with γ, δ, and μ phases competing. The BCC phase is included for ternary isothermal phase diagram generation, only -- it is not used in simulations.\n",
    "\n",
    "The phase field model requires Gibbs free energies as functions of system compositions $x_\\mathrm{Mo}$, $x_\\mathrm{Nb}$, $x_\\mathrm{Ni}$. The Calphad database, Thermotech Ni..., represents these energies as functions of sublattice compositions in each phase. To avoid solving for internal phase equilibrium at each point in the simulation, the following approximations have been made:\n",
    "* γ: FCC (Mo,Nb,Ni) has only one sublattice, no changes necessary\n",
    "* BCC: (Mo,Nb,Ni) has only one sublattice, no changes necessary\n",
    "* δ:  two sublattices, approximately stoichiometric $\\mathrm{(Nb,Ni)_3(Mo,Nb,Ni) \\rightarrow Ni_3(Mo,Nb,Ni)}$\n",
    "* μ: three sublattices $\\mathrm{Ni'_6(Mo'',Nb'')_4(Mo''',Nb''',Ni''')_3 \\rightarrow Ni'_6(Mo'',Nb'')_4(Mo'',Nb''',Ni''')_3}$, *viz.* the sublattice compositions of Mo are set equal, $y_\\mathrm{Mo}'' = y_\\mathrm{Mo}'''$. This allows for a unique mapping from sublattice $y$ to system $x$ composition. Phases such as this tend to have sharp Gibbs energies with cusp-like minima at the stoichiometric composition, and high energies far away. This approximation preserves the behavior near stoichiometry, but introduces high error far away -- a tolerable situation in our opinion."
   ]
  },
  {
   "cell_type": "code",
   "execution_count": 1,
   "metadata": {
    "collapsed": false
   },
   "outputs": [],
   "source": [
    "%matplotlib inline\n",
    "# Numerical libraries\n",
    "import numpy as np\n",
    "from scipy.optimize import fsolve\n",
    "from sympy.utilities.lambdify import lambdify\n",
    "\n",
    "# Runtime / parallel libraries\n",
    "import time\n",
    "from itertools import chain\n",
    "from multiprocessing import Pool\n",
    "\n",
    "# Thermodynamics and computer-algebra libraries\n",
    "from pycalphad import Database, calculate, Model\n",
    "from sympy.utilities.codegen import codegen\n",
    "from sympy.parsing.sympy_parser import parse_expr\n",
    "from sympy import diff, simplify, symbols, sympify\n",
    "\n",
    "# Visualization libraries\n",
    "import matplotlib.pylab as plt\n",
    "from ipywidgets import FloatProgress\n",
    "from IPython.display import display\n",
    "\n",
    "# Constants\n",
    "seventh = 13.0/7\n",
    "third = 13.0/3\n",
    "quarter = 3.0/4\n",
    "rt32 = np.sqrt(3.0)/2\n",
    "epsilon = 1e-8 # tolerance for comparing floating-point numbers to zero\n",
    "temp = 870.0 + 273.15 # 1143 Kelvin"
   ]
  },
  {
   "cell_type": "code",
   "execution_count": 2,
   "metadata": {
    "collapsed": false
   },
   "outputs": [],
   "source": [
    "#tdb = Database('mc_ni_v2.033.tdb')\n",
    "#tdb = Database('monbni-simple.tdb')\n",
    "#tdb = Database('Thermotech_Mo-Nb-Ni_FCC-delta-mu-BCC.tdb')\n",
    "tdb = Database('Thermotech_Mo-Nb-Ni_FCC-delta-mu-BCC_simple.tdb')"
   ]
  },
  {
   "cell_type": "code",
   "execution_count": 3,
   "metadata": {
    "collapsed": true
   },
   "outputs": [],
   "source": [
    "phases = ['FCC_A1', 'DELTA', 'MU_PHASE', 'BCC_A2', 'LIQUID']\n",
    "elements = ['MO', 'NB', 'NI']"
   ]
  },
  {
   "cell_type": "markdown",
   "metadata": {},
   "source": [
    "## Export Gibbs functions using SymPy"
   ]
  },
  {
   "cell_type": "code",
   "execution_count": 4,
   "metadata": {
    "collapsed": false
   },
   "outputs": [],
   "source": [
    "c_gamma = list(set([i for c in tdb.phases['FCC_A1'].constituents for i in c]))\n",
    "m_gamma = Model(tdb, c_gamma, 'FCC_A1')\n",
    "s_gamma = 1 # sites in formula unit\n",
    "g_gamma = parse_expr(str(m_gamma.ast)) / s_gamma"
   ]
  },
  {
   "cell_type": "code",
   "execution_count": 5,
   "metadata": {
    "collapsed": false
   },
   "outputs": [],
   "source": [
    "c_delta = list(set([i for c in tdb.phases['DELTA'].constituents for i in c]))\n",
    "m_delta = Model(tdb, c_delta, 'DELTA')\n",
    "s_delta = 4 # sites in formula unit\n",
    "g_delta = parse_expr(str(m_delta.ast)) / s_delta"
   ]
  },
  {
   "cell_type": "code",
   "execution_count": 6,
   "metadata": {
    "collapsed": false
   },
   "outputs": [],
   "source": [
    "c_mu = list(set([i for c in tdb.phases['MU_PHASE'].constituents for i in c]))\n",
    "m_mu = Model(tdb, c_mu, 'MU_PHASE')\n",
    "s_mu = 13 # sites in formula unit\n",
    "g_mu = parse_expr(str(m_mu.ast)) / s_mu"
   ]
  },
  {
   "cell_type": "code",
   "execution_count": 7,
   "metadata": {
    "collapsed": false
   },
   "outputs": [],
   "source": [
    "c_bcc = list(set([i for c in tdb.phases['BCC_A2'].constituents for i in c]))\n",
    "m_bcc = Model(tdb, c_bcc, 'BCC_A2')\n",
    "s_bcc = 1 # sites in formula unit\n",
    "g_bcc = parse_expr(str(m_bcc.ast)) / s_bcc"
   ]
  },
  {
   "cell_type": "markdown",
   "metadata": {},
   "source": [
    "## Convert sublattice to phase composition (y to x)"
   ]
  },
  {
   "cell_type": "code",
   "execution_count": 8,
   "metadata": {
    "collapsed": true
   },
   "outputs": [],
   "source": [
    "# Declare sublattice variables used in Pycalphad expressions\n",
    "FCC_A10MO, FCC_A10NB, FCC_A10NI, FCC_A11VA = symbols('FCC_A10MO FCC_A10NB FCC_A10NI FCC_A11VA')\n",
    "DELTA0NI, DELTA0NB, DELTA1MO, DELTA1NB, DELTA1NI = symbols('DELTA0NI DELTA0NB DELTA1MO DELTA1NB DELTA1NI')\n",
    "MU_PHASE0NI, MU_PHASE1MO, MU_PHASE1NB, MU_PHASE2MO, MU_PHASE2NB, MU_PHASE2NI = symbols('MU_PHASE0NI MU_PHASE1MO MU_PHASE1NB MU_PHASE2MO MU_PHASE2NB MU_PHASE2NI')\n",
    "BCC_A20MO, BCC_A20NB, BCC_A20NI, BCC_A21VA = symbols('BCC_A20MO BCC_A20NB BCC_A20NI BCC_A21VA')\n",
    "T = symbols('T')\n",
    "\n",
    "# Declare system variables for target expressions\n",
    "GAMMA_XMO, GAMMA_XNB, GAMMA_XNI = symbols('GAMMA_XMO GAMMA_XNB GAMMA_XNI')\n",
    "DELTA_XMO, DELTA_XNB, DELTA_XNI = symbols('DELTA_XMO DELTA_XNB DELTA_XNI')\n",
    "MU_XMO, MU_XNB, MU_XNI = symbols('MU_XMO MU_XNB MU_XNI')\n",
    "BCC_XMO, BCC_XNB, BCC_XNI = symbols('BCC_XMO BCC_XNB BCC_XNI')"
   ]
  },
  {
   "cell_type": "code",
   "execution_count": 9,
   "metadata": {
    "collapsed": false
   },
   "outputs": [],
   "source": [
    "# Make substitutions\n",
    "        \n",
    "g_gamma = g_gamma.subs({FCC_A10MO: GAMMA_XMO,\n",
    "                        FCC_A10NB: GAMMA_XNB,\n",
    "                        FCC_A10NI: GAMMA_XNI,\n",
    "                        FCC_A11VA: 1,\n",
    "                        T: temp})\n",
    "\n",
    "# Approximate delta as a stoichiometric compound, (Nb,Ni)3(Mo,Nb,Ni) ==> Ni3(Mo,Nb,Ni)\n",
    "g_delta = g_delta.subs({DELTA0NI: 1,\n",
    "                        DELTA0NB: 0,\n",
    "                        DELTA1MO: 4*DELTA_XMO,\n",
    "                        DELTA1NB: 4*DELTA_XNB,\n",
    "                        DELTA1NI: 4*(DELTA_XNI-quarter),\n",
    "                        T: temp})\n",
    "\n",
    "# Substitution made possible by setting y3_Mo=y4_Mo\n",
    "g_mu = g_mu.subs({MU_PHASE0NI: 1,\n",
    "                  MU_PHASE1NB: 1 - seventh*MU_XMO,\n",
    "                  MU_PHASE1MO: seventh*MU_XMO,\n",
    "                  MU_PHASE2MO: seventh*MU_XMO,\n",
    "                  MU_PHASE2NB: 3 - seventh*MU_XMO - third*MU_XNI,\n",
    "                  MU_PHASE2NI: third*MU_XNI - 2,\n",
    "                  T: temp})\n",
    "\n",
    "g_bcc = g_bcc.subs({BCC_A20MO: BCC_XMO,\n",
    "                    BCC_A20NB: BCC_XNB,\n",
    "                    BCC_A20NI: BCC_XNI,\n",
    "                    BCC_A21VA: 1,\n",
    "                    T: temp})"
   ]
  },
  {
   "cell_type": "code",
   "execution_count": 10,
   "metadata": {
    "collapsed": false
   },
   "outputs": [
    {
     "data": {
      "text/plain": [
       "<matplotlib.legend.Legend at 0x7f23e88dead0>"
      ]
     },
     "execution_count": 10,
     "metadata": {},
     "output_type": "execute_result"
    },
    {
     "data": {
      "image/png": "[encoded data removed]",
      "text/plain": [
       "<matplotlib.figure.Figure at 0x7f23e9f0d710>"
      ]
     },
     "metadata": {},
     "output_type": "display_data"
    }
   ],
   "source": [
    "# plot Gibbs energy curves for fixed x_Mo = 1%\n",
    "# using numerically efficient system-composition expressions\n",
    "Gg = lambdify((GAMMA_XMO, GAMMA_XNB, GAMMA_XNI), g_gamma, modules='numpy')\n",
    "Gd = lambdify((DELTA_XMO, DELTA_XNB, DELTA_XNI), g_delta, modules='numpy')\n",
    "Gu = lambdify((MU_XMO, MU_XNB, MU_XNI), g_mu, modules='numpy')\n",
    "Gb = lambdify((BCC_XMO, BCC_XNB, BCC_XNI), g_bcc, modules='numpy')\n",
    "\n",
    "GX = []\n",
    "GY = []\n",
    "DX = []\n",
    "DY = []\n",
    "UX = []\n",
    "UY = []\n",
    "BX = []\n",
    "BY = []\n",
    "\n",
    "for xnb in np.linspace(epsilon,1,1001):\n",
    "    xmo = 0.01\n",
    "    xni = 1-xmo-xnb\n",
    "    #print \"(%4.2f, %4.2f,%5.2f)\"%(xmo,xnb,xni)\n",
    "    if xni>0:\n",
    "        UX.append(xnb)\n",
    "        GY.append(Gg(xmo,xnb,xni))\n",
    "        DY.append(Gd(xmo,xnb,xni))\n",
    "        UY.append(Gu(xmo,xnb,xni))\n",
    "        BY.append(Gb(xmo,xnb,xni))\n",
    "\n",
    "plt.figure(figsize=(8, 8))\n",
    "plt.xlabel(r'$x_\\mathrm{Nb}$', fontsize=24)\n",
    "plt.ylabel(r'$\\mathcal{G}$', fontsize=24)\n",
    "plt.plot(UX, GY, label=r'$\\mathcal{G}_\\gamma$')\n",
    "plt.plot(UX, DY, label=r'$\\mathcal{G}_\\delta$')\n",
    "plt.plot(UX, UY, label=r'$\\mathcal{G}_\\mu$')\n",
    "plt.plot(UX, BY, label=r'$\\mathcal{G}_\\mathrm{bcc}$')\n",
    "plt.legend(loc='best')"
   ]
  },
  {
   "cell_type": "markdown",
   "metadata": {},
   "source": [
    "## Mathematica output"
   ]
  },
  {
   "cell_type": "code",
   "execution_count": 11,
   "metadata": {
    "collapsed": false,
    "scrolled": false
   },
   "outputs": [],
   "source": [
    "# from sympy.printing.mathematica import mathematica_code as mcode\n",
    "# print \"G_gamma:\"\n",
    "# print mcode(g_gamma)\n",
    "# print \"\\nG_mu:\"\n",
    "# print mcode(g_mu)\n",
    "# print \"\\nG_delta:\"\n",
    "# print mcode(g_delta)\n",
    "# print \"\\nG_BCC:\"\n",
    "# print mcode(g_bcc)"
   ]
  },
  {
   "cell_type": "markdown",
   "metadata": {},
   "source": [
    "## Partial Derivatives"
   ]
  },
  {
   "cell_type": "code",
   "execution_count": 12,
   "metadata": {
    "collapsed": true
   },
   "outputs": [],
   "source": [
    "# First derivatives\n",
    "dGgam_dxMo = diff(g_gamma, GAMMA_XMO)\n",
    "dGgam_dxNb = diff(g_gamma, GAMMA_XNB)\n",
    "dGgam_dxNi = diff(g_gamma, GAMMA_XNI)\n",
    "\n",
    "dGdel_dxMo = diff(g_delta, DELTA_XMO)\n",
    "dGdel_dxNb = diff(g_delta, DELTA_XNB)\n",
    "dGdel_dxNi = diff(g_delta, DELTA_XNI)\n",
    "\n",
    "dGmu_dxMo = diff(g_mu, MU_XMO)\n",
    "dGmu_dxNb = diff(g_mu, MU_XNB)\n",
    "dGmu_dxNi = diff(g_mu, MU_XNI)\n",
    "\n",
    "dGbcc_dxMo = diff(g_bcc, BCC_XMO)\n",
    "dGbcc_dxNb = diff(g_bcc, BCC_XNB)\n",
    "dGbcc_dxNi = diff(g_bcc, BCC_XNI)\n",
    "\n",
    "# Second derivatives\n",
    "d2Ggam_dxMo2 = diff(dGgam_dxMo, GAMMA_XMO)\n",
    "d2Ggam_dxNb2 = diff(dGgam_dxNb, GAMMA_XNB)\n",
    "d2Ggam_dxNi2 = diff(dGgam_dxNi, GAMMA_XNI)\n",
    "\n",
    "d2Gdel_dxMo2 = diff(dGdel_dxMo, DELTA_XMO)\n",
    "d2Gdel_dxNb2 = diff(dGdel_dxNb, DELTA_XNB)\n",
    "d2Gdel_dxNi2 = diff(dGdel_dxNi, DELTA_XNI)\n",
    "\n",
    "d2Gmu_dxMo2 = diff(dGmu_dxMo, MU_XMO)\n",
    "d2Gmu_dxNb2 = diff(dGmu_dxNb, MU_XNB)\n",
    "d2Gmu_dxNi2 = diff(dGmu_dxNi, MU_XNI)\n",
    "\n",
    "d2Gbcc_dxMo2 = diff(dGbcc_dxMo, BCC_XMO)\n",
    "d2Gbcc_dxNb2 = diff(dGbcc_dxNb, BCC_XNB)\n",
    "d2Gbcc_dxNi2 = diff(dGbcc_dxNi, BCC_XNI)"
   ]
  },
  {
   "cell_type": "markdown",
   "metadata": {},
   "source": [
    "## C output"
   ]
  },
  {
   "cell_type": "code",
   "execution_count": 13,
   "metadata": {
    "collapsed": false
   },
   "outputs": [],
   "source": [
    "codegen([# Gibbs energies\n",
    "         ('g_gam',g_gamma), ('g_mu',g_mu), ('g_del',g_delta), ('g_bcc',g_bcc),\n",
    "         # First derivatives\n",
    "         ('dg_gam_dxMo',dGgam_dxMo), ('dg_gam_dxNb',dGgam_dxNb), ('dg_gam_dxNi',dGgam_dxNi),\n",
    "         ('dg_del_dxMo',dGdel_dxMo), ('dg_del_dxNb',dGdel_dxNb), ('dg_del_dxNi',dGdel_dxNi),\n",
    "         ('dg_mu_dxMo',dGmu_dxMo), ('dg_mu_dxNb',dGmu_dxNb), ('dg_mu_dxNi',dGmu_dxNi),\n",
    "         ('dg_bcc_dxMo',dGbcc_dxMo), ('dg_bcc_dxNb',dGbcc_dxNb), ('dg_bcc_dxNi',dGbcc_dxNi),\n",
    "         # Second derivatives\n",
    "         ('d2g_gam_dxMo2',d2Ggam_dxMo2), ('d2g_gam_dxNb2',d2Ggam_dxNb2), ('d2g_gam_dxNi2',d2Ggam_dxNi2),\n",
    "         ('d2g_del_dxMo2',d2Gdel_dxMo2), ('d2g_del_dxNb2',d2Gdel_dxNb2), ('d2g_del_dxNi2',d2Gdel_dxNi2),\n",
    "         ('d2g_mu_dxMo2', d2Gmu_dxMo2),  ('d2g_mu_dxNb2', d2Gmu_dxNb2),  ('d2g_mu_dxNi2', d2Gmu_dxNi2),\n",
    "         ('d2g_bcc_dxMo2',d2Gbcc_dxMo2), ('d2g_bcc_dxNb2',d2Gbcc_dxNb2), ('d2g_bcc_dxNi2',d2Gbcc_dxNi2)],\n",
    "        language='C', prefix='energy625', project='ALLOY625', to_files=True)"
   ]
  },
  {
   "cell_type": "markdown",
   "metadata": {},
   "source": [
    "# Generate a phase diagram"
   ]
  },
  {
   "cell_type": "markdown",
   "metadata": {},
   "source": [
    "This system has Lagrangian energy density\n",
    "\n",
    "$$\\mathcal{L} = \\sum_pn_pG_p - \\sum_i\\mu_i\\left[\\sum_pn_px_{p,i} - N_i\\right]$$\n",
    "\n",
    "with phase fraction $n_p$, Gibbs energies (per phase) $G_p$, chemical potentials (per species) $\\mu_i$, and mole fractions (per species and per phase) $x_{p,i}$. Note that the $\\mu_i$ are the Lagrange multipliers of the constraint of mass conservation.\n",
    "\n",
    "To generate the phase diagram, this equation is solved for the equilibrium compositions, chemical potentials, and phase fractions, accomplished by setting the partial derivatives of $\\mathcal{L}$ with respect to each unknown equal to zero. The $G_p$ are taken from the Calphad database, and $N_i$ are the system composition corresponding to a point on the Gibbs simplex.\n",
    "\n",
    "Therefore, we have seven knowns:\n",
    "* 4 from $G$ ($G_\\gamma$, $G_\\delta$, $G_\\mu$, $G_\\mathrm{BCC}$)\n",
    "* 3 from $N$ ($N_\\mathrm{Mo}$, $N_\\mathrm{Nb}$, $N_\\mathrm{Ni}$)\n",
    "\n",
    "This leaves nineteen variables: \n",
    "* 3 from $\\mu$ ($\\mu_\\mathrm{Mo}$, $\\mu_\\mathrm{Nb}$, $\\mu_\\mathrm{Ni}$)\n",
    "* 4 from $n$ ($n_\\gamma$, $n_\\delta$, $n_\\mu$, $n_\\mathrm{BCC}$)\n",
    "* 3 from $x_\\gamma$ ($x_{\\gamma,\\mathrm{Mo}}$, $x_{\\gamma,\\mathrm{Nb}}$, $x_{\\gamma,\\mathrm{Ni}}$) \n",
    "* 3 from $x_\\delta$ ($x_{\\delta,\\mathrm{Mo}}$, $x_{\\delta,\\mathrm{Nb}}$, $x_{\\delta,\\mathrm{Ni}}$) \n",
    "* 3 from $x_\\mu$ ($x_{\\mu,\\mathrm{Mo}}$, $x_{\\mu,\\mathrm{Nb}}$, $x_{\\mu,\\mathrm{Ni}}$)\n",
    "* 3 from $x_\\mathrm{BCC}$ ($x_{\\mathrm{BCC},\\mathrm{Mo}}$, $x_{\\mathrm{BCC},\\mathrm{Nb}}$,  $x_{\\mathrm{BCC},\\mathrm{Ni}}$)\n",
    "\n",
    "The partial derivatives below are taken in exactly the order the variables appear above, producing nineteen equilibrium equations. To accelerate convergence of scipy.optimize.fsolve, the Jacobian matrix $J_{ij}=\\frac{\\partial f_i}{\\partial x_j}$ is also computed -- that is, the partial derivative of each of the nineteen equations is taken with respect to each of the nineteen unknowns, in the same variable order as given above. This makes a $19\\times19$ square symmetric matrix of partial derivatives: one equation per row, one variable per column."
   ]
  },
  {
   "cell_type": "markdown",
   "metadata": {},
   "source": [
    "## Numerically efficient expressions"
   ]
  },
  {
   "cell_type": "code",
   "execution_count": 14,
   "metadata": {
    "collapsed": true
   },
   "outputs": [],
   "source": [
    "# Gibbs energies\n",
    "Gg = lambdify((GAMMA_XMO, GAMMA_XNB, GAMMA_XNI), g_gamma, modules='numpy')\n",
    "Gd = lambdify((DELTA_XMO, DELTA_XNB, DELTA_XNI), g_delta, modules='numpy')\n",
    "Gu = lambdify((MU_XMO, MU_XNB, MU_XNI), g_mu, modules='numpy')\n",
    "Gb = lambdify((BCC_XMO, BCC_XNB, BCC_XNI), g_bcc, modules='numpy')\n",
    "\n",
    "# First derivatives\n",
    "dgdx0 = lambdify((GAMMA_XMO, GAMMA_XNB, GAMMA_XNI), dGgam_dxMo, modules='numpy')\n",
    "dgdx1 = lambdify((GAMMA_XMO, GAMMA_XNB, GAMMA_XNI), dGgam_dxNb, modules='numpy')\n",
    "dgdx2 = lambdify((GAMMA_XMO, GAMMA_XNB, GAMMA_XNI), dGgam_dxNi, modules='numpy')\n",
    "\n",
    "dddx0 = lambdify((DELTA_XMO, DELTA_XNB, DELTA_XNI), dGdel_dxMo, modules='numpy')\n",
    "dddx1 = lambdify((DELTA_XMO, DELTA_XNB, DELTA_XNI), dGdel_dxNb, modules='numpy')\n",
    "dddx2 = lambdify((DELTA_XMO, DELTA_XNB, DELTA_XNI), dGdel_dxNi, modules='numpy')\n",
    "\n",
    "dudx0 = lambdify((MU_XMO, MU_XNB, MU_XNI), dGmu_dxMo, modules='numpy')\n",
    "dudx1 = lambdify((MU_XMO, MU_XNB, MU_XNI), dGmu_dxNb, modules='numpy')\n",
    "dudx2 = lambdify((MU_XMO, MU_XNB, MU_XNI), dGmu_dxNi, modules='numpy')\n",
    "\n",
    "dbdx0 = lambdify((BCC_XMO, BCC_XNB, BCC_XNI), dGbcc_dxMo, modules='numpy')\n",
    "dbdx1 = lambdify((BCC_XMO, BCC_XNB, BCC_XNI), dGbcc_dxNb, modules='numpy')\n",
    "dbdx2 = lambdify((BCC_XMO, BCC_XNB, BCC_XNI), dGbcc_dxNi, modules='numpy')\n",
    "\n",
    "# Second derivatives\n",
    "d2gdx20 = lambdify((GAMMA_XMO, GAMMA_XNB, GAMMA_XNI), d2Ggam_dxMo2, modules='numpy')\n",
    "d2gdx21 = lambdify((GAMMA_XMO, GAMMA_XNB, GAMMA_XNI), d2Ggam_dxNb2, modules='numpy')\n",
    "d2gdx22 = lambdify((GAMMA_XMO, GAMMA_XNB, GAMMA_XNI), d2Ggam_dxNi2, modules='numpy')\n",
    "\n",
    "d2ddx20 = lambdify((DELTA_XMO, DELTA_XNB, DELTA_XNI), d2Gdel_dxMo2, modules='numpy')\n",
    "d2ddx21 = lambdify((DELTA_XMO, DELTA_XNB, DELTA_XNI), d2Gdel_dxNb2, modules='numpy')\n",
    "d2ddx22 = lambdify((DELTA_XMO, DELTA_XNB, DELTA_XNI), d2Gdel_dxNi2, modules='numpy')\n",
    "\n",
    "d2udx20 = lambdify((MU_XMO, MU_XNB, MU_XNI), d2Gmu_dxMo2, modules='numpy')\n",
    "d2udx21 = lambdify((MU_XMO, MU_XNB, MU_XNI), d2Gmu_dxNb2, modules='numpy')\n",
    "d2udx22 = lambdify((MU_XMO, MU_XNB, MU_XNI), d2Gmu_dxNi2, modules='numpy')\n",
    "\n",
    "d2bdx20 = lambdify((BCC_XMO, BCC_XNB, BCC_XNI), d2Gbcc_dxMo2, modules='numpy')\n",
    "d2bdx21 = lambdify((BCC_XMO, BCC_XNB, BCC_XNI), d2Gbcc_dxNb2, modules='numpy')\n",
    "d2bdx22 = lambdify((BCC_XMO, BCC_XNB, BCC_XNI), d2Gbcc_dxNi2, modules='numpy')"
   ]
  },
  {
   "cell_type": "markdown",
   "metadata": {},
   "source": [
    "## Solver"
   ]
  },
  {
   "cell_type": "code",
   "execution_count": 15,
   "metadata": {
    "collapsed": false
   },
   "outputs": [],
   "source": [
    "def commonTangentConc(C_Mo, C_Nb, C_Ni, guess):\n",
    "    N = 19 # equations and unknowns\n",
    "    it = 150 # iterations per equation, default is 100\n",
    "    \n",
    "    def equilibrium(u0, u1, u2, n0, n1, n2, n3, xg0, xg1, xg2, xd0, xd1, xd2, xu0, xu1, xu2, xb0, xb1, xb2):\n",
    "        return [# dL/du\n",
    "                -n0*xg0 - n1*xd0 - n2*xu0 - n3*xb0 + C_Mo,\n",
    "                -n0*xg1 - n1*xd1 - n2*xu1 - n3*xb1 + C_Nb,\n",
    "                -n0*xg2 - n1*xd2 - n2*xu2 - n3*xb2 + C_Ni,\n",
    "                # dL/dn\n",
    "                Gg(xg0,xg1,xg2) - u0*xg0 - u1*xg1 - u2*xg2,\n",
    "                Gd(xd0,xd1,xd2) - u0*xd0 - u1*xd1 - u2*xd2,\n",
    "                Gu(xu0,xu1,xu2) - u0*xu0 - u1*xu1 - u2*xu2,\n",
    "                Gb(xb0,xb1,xb2) - u0*xb0 - u1*xb1 - u2*xb2,\n",
    "                # dL/dxg\n",
    "                n0*(dgdx0(xg0,xg1,xg2) - u0),\n",
    "                n0*(dgdx1(xg0,xg1,xg2) - u1),\n",
    "                n0*(dgdx2(xg0,xg1,xg2) - u2),\n",
    "                # dL/dxd\n",
    "                n1*(dddx0(xd0,xd1,xd2) - u0),\n",
    "                n1*(dddx1(xd0,xd1,xd2) - u1),\n",
    "                n1*(dddx2(xd0,xd1,xd2) - u2),\n",
    "                # dL/dxu\n",
    "                n2*(dudx0(xu0,xu1,xu2) - u0),\n",
    "                n2*(dudx1(xu0,xu1,xu2) - u1),\n",
    "                n2*(dudx2(xu0,xu1,xu2) - u2),\n",
    "                # dL/dxb\n",
    "                n3*(dbdx0(xb0,xb1,xb2) - u0),\n",
    "                n3*(dbdx1(xb0,xb1,xb2) - u1),\n",
    "                n3*(dbdx2(xb0,xb1,xb2) - u2)\n",
    "                ]\n",
    "\n",
    "    def Equilibrium(A):\n",
    "        # Helper to convert from an array to named input\n",
    "        return equilibrium(A[0], A[1], A[2], A[3], A[4], A[5], A[6], A[7], A[8], A[9], A[10], A[11], A[12], A[13], A[14], A[15], A[16], A[17], A[18])\n",
    "\n",
    "    def jacobian(u0, u1, u2, n0, n1, n2, n3, xg0, xg1, xg2, xd0, xd1, xd2, xu0, xu1, xu2, xb0, xb1, xb2):\n",
    "        \n",
    "        return[\n",
    "            [0,   0,   0,   -xg0,-xd0,-xu0,-xb0, -n0,0,0,-n1,0,0,-n2,0,0,-n3,0,0],\n",
    "            [0,   0,   0,   -xg1,-xd1,-xu1,-xb1,  0,-n0,0,0,-n1,0,0,-n2,0,0,-n3,0],\n",
    "            [0,   0,   0,   -xg2,-xd2,-xu2,-xb2,  0,0,-n0,0,0,-n1,0,0,-n2,0,0,-n3],\n",
    "            [-xg0,-xg1,-xg2,0,0,0,0,dgdx0(xg0,xg1,xg2)-u0,dgdx1(xg0,xg1,xg2)-u1,dgdx2(xg0,xg1,xg2)-u2,0,0,0,0,0,0,0,0,0],\n",
    "            [-xd0,-xd1,-xd2,0,0,0,0,0,0,0,dddx0(xd0,xd1,xd2)-u0,dddx1(xd0,xd1,xd2)-u1,dddx2(xd0,xd1,xd2)-u2,0,0,0,0,0,0],\n",
    "            [-xu0,-xu1,-xu2,0,0,0,0,0,0,0,0,0,0,dudx0(xu0,xu1,xu2)-u0,dudx1(xu0,xu1,xu2)-u1,dudx2(xu0,xu1,xu2)-u2,0,0,0],\n",
    "            [-xb0,-xb1,-xb2,0,0,0,0,0,0,0,0,0,0,0,0,0,dbdx0(xb0,xb1,xb2)-u0,dbdx1(xb0,xb1,xb2)-u1,dbdx2(xb0,xb1,xb2)-u2],\n",
    "            [-n0, 0,   0,   dgdx0(xg0,xg1,xg2)-u0,0,0,0,n0*d2gdx20(xg0,xg1,xg2),0,0,0,0,0,0,0,0,0,0,0],\n",
    "            [0,   -n0, 0,   dgdx1(xg0,xg1,xg2)-u1,0,0,0,0,n0*d2gdx21(xg0,xg1,xg2),0,0,0,0,0,0,0,0,0,0],\n",
    "            [0,   0,   -n0, dgdx2(xg0,xg1,xg2)-u2,0,0,0,0,0,n0*d2gdx22(xg0,xg1,xg2),0,0,0,0,0,0,0,0,0],\n",
    "            [-n1, 0,   0,   0,dddx0(xd0,xd1,xd2)-u0,0,0,0,0,0,n1*d2ddx20(xd0,xd1,xd2),0,0,0,0,0,0,0,0],\n",
    "            [0,   -n1, 0,   0,dddx1(xd0,xd1,xd2)-u1,0,0,0,0,0,0,n1*d2ddx21(xd0,xd1,xd2),0,0,0,0,0,0,0],\n",
    "            [0,   0,   -n1, 0,dddx2(xd0,xd1,xd2)-u2,0,0,0,0,0,0,0,n1*d2ddx22(xd0,xd1,xd2),0,0,0,0,0,0],\n",
    "            [-n2, 0,   0,   0,0,dudx0(xu0,xu1,xu2)-u0,0,0,0,0,0,0,0,n2*d2udx20(xu0,xu1,xu2),0,0,0,0,0],\n",
    "            [0,   -n2, 0,   0,0,dudx1(xu0,xu1,xu2)-u1,0,0,0,0,0,0,0,0,n2*d2udx21(xu0,xu1,xu2),0,0,0,0],\n",
    "            [0,   0,   -n2, 0,0,dudx2(xu0,xu1,xu2)-u2,0,0,0,0,0,0,0,0,0,n2*d2udx22(xu0,xu1,xu2),0,0,0],\n",
    "            [-n3, 0,   0,   0,0,0,dbdx0(xb0,xb1,xb2)-u0,0,0,0,0,0,0,0,0,0,n3*d2bdx20(xb0,xb1,xb2),0,0],\n",
    "            [0,   -n3, 0,   0,0,0,dbdx1(xb0,xb1,xb2)-u1,0,0,0,0,0,0,0,0,0,0,n3*d2bdx21(xb0,xb1,xb2),0],\n",
    "            [0,   0,   -n3, 0,0,0,dbdx2(xb0,xb1,xb2)-u2,0,0,0,0,0,0,0,0,0,0,0,n3*d2bdx22(xb0,xb1,xb2)]\n",
    "        ]\n",
    "\n",
    "    def Jacobian(A):\n",
    "        return jacobian(A[0], A[1], A[2], A[3], A[4], A[5], A[6], A[7], A[8], A[9], A[10], A[11], A[12], A[13], A[14], A[15], A[16], A[17], A[18])\n",
    "\n",
    "    return fsolve(func=Equilibrium, x0=guess, fprime=Jacobian, maxfev=N*it)"
   ]
  },
  {
   "cell_type": "code",
   "execution_count": 16,
   "metadata": {
    "collapsed": true
   },
   "outputs": [],
   "source": [
    "# Initial condition for gamma-delta coexistence field\n",
    "# Note: Python tuples () are immutable lists [] are mutable. Use tuples for default values.\n",
    "guessA = (1.0, 1.0,   1.0,        # Mo, Nb, Ni potentials\n",
    "         0.5-epsilon, 0.5-epsilon, epsilon,epsilon,# gamma, delta, mu, bcc fractions\n",
    "         0.1,  0.05,  0.85,     # gamma comp\n",
    "         0.2,  0.2,   0.6,      # delta comp\n",
    "         0.01, 0.525, 0.465,    # mu comp\n",
    "         0.5,  0.5,   epsilon)        # bcc comp\n",
    "\n",
    "# Initial condition for delta-mu coexistence field\n",
    "guessB = (1.0, 1.0,   1.0,        # Mo, Nb, Ni potentials\n",
    "         epsilon, 0.475, 0.475, 0.05-epsilon,# gamma, delta, mu, bcc fractions\n",
    "         0.1,  0.05,  0.85,     # gamma comp\n",
    "         0.2,  0.2,   0.6,      # delta comp\n",
    "         0.01, 0.525, 0.465,    # mu comp\n",
    "         0.5,  0.5,   epsilon)        # bcc comp\n",
    "# Initial condition for mu-BCC coexistence field\n",
    "guessC = (1.0,  1.0,  1.0,        # Mo, Nb, Ni potentials\n",
    "         epsilon,0.05-epsilon, 0.475, 0.475,# gamma, delta, mu, bcc fractions\n",
    "         0.1,  0.05,  0.85,     # gamma comp\n",
    "         0.2,  0.2,   0.6,      # delta comp\n",
    "         0.01, 0.525, 0.465,    # mu comp\n",
    "         0.5,  0.5,   epsilon)        # bcc comp\n",
    "\n",
    "# Initial condition for delta-BCC coexistence field\n",
    "guessD = (1.0,  1.0,  1.0,        # Mo, Nb, Ni potentials\n",
    "         epsilon, 0.475, 0.05-epsilon, 0.475,# gamma, delta, mu, bcc fractions\n",
    "         0.1,  0.05,  0.85,     # gamma comp\n",
    "         0.2,  0.2,   0.6,      # delta comp\n",
    "         0.01, 0.525, 0.465,    # mu comp\n",
    "         0.5,  0.5,   epsilon)        # bcc comp\n",
    "\n",
    "# Initial condition for delta-mu-BCC coexistence field\n",
    "guessE = (1.0, 1.0,   1.0,        # Mo, Nb, Ni potentials\n",
    "         epsilon, 0.34-epsilon, 0.33, 0.33,# gamma, delta, mu, bcc fractions\n",
    "         0.1,  0.05,  0.85,     # gamma comp\n",
    "         0.2,  0.2,   0.6,      # delta comp\n",
    "         0.01, 0.525, 0.465,    # mu comp\n",
    "         0.5,  0.5,   epsilon)        # bcc comp"
   ]
  },
  {
   "cell_type": "code",
   "execution_count": null,
   "metadata": {
    "collapsed": false
   },
   "outputs": [],
   "source": [
    "def computeKernel(n):\n",
    "    r = n / density\n",
    "    xnb = (r + epsilon) / (density-1)\n",
    "    s = n - r * density\n",
    "    xmo = (s + epsilon) / (density-1)\n",
    "    xni = 1 - xmo - xnb\n",
    "\n",
    "    if xni > 0:\n",
    "        # Choose an appropriate guess for this composition region\n",
    "        guess = guessE  \n",
    "\n",
    "        if xni > 0.725:\n",
    "            # gamma-delta coexistence, field A\n",
    "            guess = guessA\n",
    "        elif xmo<0.025+(0.45/0.025)*(xnb-0.5):\n",
    "            # mu-BCC coexistence, field C\n",
    "            guess = guessC\n",
    "        elif xmo<0.025*(xnb-0.225)/0.225:\n",
    "            # delta-mu coexistence, field B\n",
    "            guess = guessB\n",
    "        elif xmo>0.475*(xnb-0.25)/(0.525-0.25):\n",
    "            # delta-BCC coexistence, field D\n",
    "            guess = guessD\n",
    "\n",
    "        # Solve the common tangent construction\n",
    "        result = []\n",
    "        result.append((xmo, xnb, xni))\n",
    "        result.append(commonTangentConc(xmo, xnb, xni, guess))\n",
    "        return result\n",
    "    else:\n",
    "        return [0]*22"
   ]
  },
  {
   "cell_type": "code",
   "execution_count": null,
   "metadata": {
    "collapsed": false,
    "scrolled": true
   },
   "outputs": [
    {
     "name": "stderr",
     "output_type": "stream",
     "text": [
      "/users/tnk10/.conda/envs/mmsp/lib/python2.7/site-packages/scipy/optimize/minpack.py:161: RuntimeWarning: The iteration is not making good progress, as measured by the \n",
      "  improvement from the last ten iterations.\n",
      "  warnings.warn(msg, RuntimeWarning)\n",
      "/users/tnk10/.conda/envs/mmsp/lib/python2.7/site-packages/scipy/optimize/minpack.py:161: RuntimeWarning: The iteration is not making good progress, as measured by the \n",
      "  improvement from the last ten iterations.\n",
      "  warnings.warn(msg, RuntimeWarning)\n",
      "/users/tnk10/.conda/envs/mmsp/lib/python2.7/site-packages/scipy/optimize/minpack.py:161: RuntimeWarning: The iteration is not making good progress, as measured by the \n",
      "  improvement from the last ten iterations.\n",
      "  warnings.warn(msg, RuntimeWarning)\n",
      "/users/tnk10/.conda/envs/mmsp/lib/python2.7/site-packages/scipy/optimize/minpack.py:161: RuntimeWarning: The iteration is not making good progress, as measured by the \n",
      "  improvement from the last five Jacobian evaluations.\n",
      "  warnings.warn(msg, RuntimeWarning)\n",
      "/users/tnk10/.conda/envs/mmsp/lib/python2.7/site-packages/scipy/optimize/minpack.py:161: RuntimeWarning: The iteration is not making good progress, as measured by the \n",
      "  improvement from the last ten iterations.\n",
      "  warnings.warn(msg, RuntimeWarning)\n",
      "/users/tnk10/.conda/envs/mmsp/lib/python2.7/site-packages/scipy/optimize/minpack.py:161: RuntimeWarning: The iteration is not making good progress, as measured by the \n",
      "  improvement from the last ten iterations.\n",
      "  warnings.warn(msg, RuntimeWarning)\n",
      "/users/tnk10/.conda/envs/mmsp/lib/python2.7/site-packages/scipy/optimize/minpack.py:161: RuntimeWarning: The iteration is not making good progress, as measured by the \n",
      "  improvement from the last ten iterations.\n",
      "  warnings.warn(msg, RuntimeWarning)\n",
      "/users/tnk10/.conda/envs/mmsp/lib/python2.7/site-packages/scipy/optimize/minpack.py:161: RuntimeWarning: The iteration is not making good progress, as measured by the \n",
      "  improvement from the last five Jacobian evaluations.\n",
      "  warnings.warn(msg, RuntimeWarning)\n",
      "/users/tnk10/.conda/envs/mmsp/lib/python2.7/site-packages/scipy/optimize/minpack.py:161: RuntimeWarning: The iteration is not making good progress, as measured by the \n",
      "  improvement from the last five Jacobian evaluations.\n",
      "  warnings.warn(msg, RuntimeWarning)\n",
      "/users/tnk10/.conda/envs/mmsp/lib/python2.7/site-packages/scipy/optimize/minpack.py:161: RuntimeWarning: The iteration is not making good progress, as measured by the \n",
      "  improvement from the last five Jacobian evaluations.\n",
      "  warnings.warn(msg, RuntimeWarning)\n",
      "/users/tnk10/.conda/envs/mmsp/lib/python2.7/site-packages/scipy/optimize/minpack.py:161: RuntimeWarning: The iteration is not making good progress, as measured by the \n",
      "  improvement from the last five Jacobian evaluations.\n",
      "  warnings.warn(msg, RuntimeWarning)\n",
      "/users/tnk10/.conda/envs/mmsp/lib/python2.7/site-packages/scipy/optimize/minpack.py:161: RuntimeWarning: The iteration is not making good progress, as measured by the \n",
      "  improvement from the last five Jacobian evaluations.\n",
      "  warnings.warn(msg, RuntimeWarning)\n"
     ]
    }
   ],
   "source": [
    "# triangle bounding the Gibbs simplex\n",
    "XT = [0.0, 1.0, 0.5, 0.0]\n",
    "YT = [0.0, 0.0,rt32, 0.0]\n",
    "\n",
    "XG = [] # array of Mo concentrations\n",
    "YG = [] # array of Nb concentrations\n",
    "XD = [] # (gamma, delta, mu, bcc)\n",
    "YD = []\n",
    "XU = []\n",
    "YU = []\n",
    "XB = []\n",
    "YB = [] \n",
    "\n",
    "# Plot domains corresponding to the test points\n",
    "XA = []\n",
    "YA = []\n",
    "XB = []\n",
    "YB = []\n",
    "XC = []\n",
    "YC = []\n",
    "XD = []\n",
    "YD = []\n",
    "XE = []\n",
    "YE = []\n",
    "XX = []\n",
    "YX = []\n",
    "\n",
    "density = 1001\n",
    "threshold = 0.95\n",
    "\n",
    "if __name__ == '__main__':\n",
    "    start = time.clock()\n",
    "\n",
    "    bar = FloatProgress(min=0,max=density*(density-1)/2) \n",
    "    display(bar)\n",
    "\n",
    "    pool = Pool(6)\n",
    "\n",
    "    m = 0\n",
    "    for result in pool.map(computeKernel, range(density**2)):\n",
    "        xmo,   xnb,   xni, \\\n",
    "        equ0,  equ1,  equ2, \\\n",
    "        eqn0,  eqn1,  eqn2, eqn3, \\\n",
    "        eqxg0, eqxg1, eqxg2, \\\n",
    "        eqxd0, eqxd1, eqxd2, \\\n",
    "        eqxu0, eqxu1, eqxu2, \\\n",
    "        eqxb0, eqxb1, eqxb2 = list(chain.from_iterable(result))\n",
    "\n",
    "        if xni+epsilon > 0:\n",
    "            if xni > 0.725:\n",
    "                # gamma-delta coexistence, field A\n",
    "                XA.append(xnb + xmo/2)\n",
    "                YA.append(rt32*xmo)\n",
    "            elif xmo<0.025+(0.45/0.025)*(xnb-0.5):\n",
    "                # mu-BCC coexistence, field C\n",
    "                XC.append(xnb + xmo/2)\n",
    "                YC.append(rt32*xmo)\n",
    "            elif xmo<0.025*(xnb-0.225)/0.225:\n",
    "                # delta-mu coexistence, field B\n",
    "                XB.append(xnb + xmo/2)\n",
    "                YB.append(rt32*xmo)\n",
    "            elif xmo>0.475*(xnb-0.25)/(0.525-0.25):\n",
    "                # delta-BCC coexistence, field D\n",
    "                XD.append(xnb + xmo/2)\n",
    "                YD.append(rt32*xmo)\n",
    "            else:\n",
    "                # delta-mu-BCC coexistence, field E\n",
    "                XE.append(xnb + xmo/2)\n",
    "                YE.append(rt32*xmo)\n",
    "\n",
    "            # Store points for the phase diagram\n",
    "            nsum = eqn0 + eqn1 + eqn2 + eqn3\n",
    "            if nsum > threshold:\n",
    "                if eqxg0+epsilon>0 and eqxg1+epsilon>0 and eqxg2+epsilon>0 and eqxg0+eqxg1+eqxg2-epsilon<1:\n",
    "                    XG.append(eqxg1 + eqxg0/2)\n",
    "                    YG.append(rt32*eqxg0)\n",
    "\n",
    "                if eqxd0+epsilon>0 and eqxd1+epsilon>0 and eqxd2+epsilon>0 and eqxd0+eqxd1+eqxd2-epsilon<1:\n",
    "                    XD.append(eqxd1 + eqxd0/2)\n",
    "                    YD.append(rt32*eqxd0)\n",
    "\n",
    "                if eqxu0+epsilon>0 and eqxu1+epsilon>0 and eqxu2+epsilon>0 and eqxu0+eqxu1+eqxu2-epsilon<1:\n",
    "                    XU.append(eqxu1 + eqxu0/2)\n",
    "                    YU.append(rt32*eqxu0)\n",
    "\n",
    "                if eqxb0+epsilon>0 and eqxb1+epsilon>0 and eqxb2+epsilon>0 and eqxb0+eqxb1+eqxb2-epsilon<1:\n",
    "                    XB.append(eqxb1 + eqxb0/2)\n",
    "                    YB.append(rt32*eqxb0)\n",
    "            m += 1\n",
    "        bar.value = m\n",
    "\n",
    "    runtime = time.clock() - start\n",
    "    print \"%ih:%im:%is elapsed\" % (int(runtime/3600), int(runtime/60)%60, int(runtime)%60)"
   ]
  },
  {
   "cell_type": "code",
   "execution_count": null,
   "metadata": {
    "collapsed": false
   },
   "outputs": [],
   "source": [
    "# Plot filtered phase compositions\n",
    "pltsize = 10\n",
    "plt.figure(figsize=(pltsize, rt32*pltsize))\n",
    "plt.title(\"Mo-Nb-Ni at %.0f K\"%temp, fontsize=18)\n",
    "plt.xlim([0,1])\n",
    "plt.ylim([0,rt32])\n",
    "plt.xlabel(r'$x_\\mathrm{Nb}$', fontsize=24)\n",
    "plt.ylabel(r'$x_\\mathrm{Mo}$', fontsize=24)\n",
    "plt.plot(XT, YT, '-k')\n",
    "plt.scatter(XXG, XYG, color='red',   label=r'$\\gamma$')\n",
    "plt.scatter(XXD, XYD, color='green', label=r'$\\delta$')\n",
    "plt.scatter(XXU, XYU, color='blue',  label=r'$\\mu$')\n",
    "plt.scatter(XXB, XYB, color='yellow',label='BCC')\n",
    "plt.legend(loc='best')\n",
    "plt.show()"
   ]
  },
  {
   "cell_type": "code",
   "execution_count": null,
   "metadata": {
    "collapsed": false
   },
   "outputs": [],
   "source": [
    "# Plot domains corresponding to the test points\n",
    "plt.figure(figsize=(pltsize, rt32*pltsize))\n",
    "plt.title(\"Guess Domains\", fontsize=18)\n",
    "plt.xlim([0,1])\n",
    "plt.ylim([0,rt32])\n",
    "plt.xlabel(r'$x_\\mathrm{Nb}$', fontsize=24)\n",
    "plt.ylabel(r'$x_\\mathrm{Mo}$', fontsize=24)\n",
    "plt.plot(XT, YT, '-k')\n",
    "plt.scatter(XA, YA, color='red',   label=r'A ($\\gamma-\\delta$)')\n",
    "plt.scatter(XB, YB, color='green', label=r'B ($\\gamma-\\mu$)')\n",
    "plt.scatter(XC, YC, color='blue',  label=r'C ($\\mu-$BCC)')\n",
    "plt.scatter(XD, YD, color='yellow',label=r'D ($\\delta-$BCC)')\n",
    "plt.scatter(XE, YE, color='magenta',label=r'E ($\\delta-\\mu-$BCC)')\n",
    "plt.scatter(XX, YX, color='cyan',label=r'X (previous)')\n",
    "plt.legend(loc='best')\n",
    "plt.show()"
   ]
  },
  {
   "cell_type": "code",
   "execution_count": null,
   "metadata": {
    "collapsed": true
   },
   "outputs": [],
   "source": []
  }
 ],
 "metadata": {
  "kernelspec": {
   "display_name": "Python 2",
   "language": "python",
   "name": "python2"
  },
  "language_info": {
   "codemirror_mode": {
    "name": "ipython",
    "version": 2
   },
   "file_extension": ".py",
   "mimetype": "text/x-python",
   "name": "python",
   "nbconvert_exporter": "python",
   "pygments_lexer": "ipython2",
   "version": "2.7.12"
  }
 },
 "nbformat": 4,
 "nbformat_minor": 0
}
