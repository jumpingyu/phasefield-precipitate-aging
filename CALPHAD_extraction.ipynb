{
 "cells": [
  {
   "cell_type": "markdown",
   "metadata": {},
   "source": [
    "# Gibbs free energy expressions for IN625 from ternary CALPHAD DB"
   ]
  },
  {
   "cell_type": "code",
   "execution_count": 1,
   "metadata": {
    "collapsed": false
   },
   "outputs": [],
   "source": [
    "import numpy as np\n",
    "from pycalphad import Database, calculate, Model\n",
    "from sympy.utilities.codegen import codegen\n",
    "from sympy.parsing.sympy_parser import parse_expr\n",
    "from sympy import diff, symbols"
   ]
  },
  {
   "cell_type": "code",
   "execution_count": 3,
   "metadata": {
    "collapsed": false
   },
   "outputs": [],
   "source": [
    "#tdb = Database('mc_ni_v2.033.tdb')\n",
    "tdb = Database('Thermotech_Mo-Nb-Ni_FCC-delta-mu-BCC.tdb')"
   ]
  },
  {
   "cell_type": "code",
   "execution_count": 4,
   "metadata": {
    "collapsed": true
   },
   "outputs": [],
   "source": [
    "phases = ['LIQUID', 'FCC_A1', 'MU_PHASE', 'DELTA', 'BCC_A2']\n",
    "elements = ['NI', 'MO', 'NB', 'VA']\n",
    "temp = 870 + 273.15 # Kelvin"
   ]
  },
  {
   "cell_type": "markdown",
   "metadata": {},
   "source": [
    "## Export Gibbs functions using SymPy"
   ]
  },
  {
   "cell_type": "code",
   "execution_count": 5,
   "metadata": {
    "collapsed": false
   },
   "outputs": [],
   "source": [
    "c_gamma = list(set([i for c in tdb.phases['FCC_A1'].constituents for i in c]))\n",
    "m_gamma = Model(tdb, c_gamma, 'FCC_A1')\n",
    "\n",
    "#FCC_A10NI, FCC_A11MO, FCC_A10NB = symbols('FCC_A10NI FCC_A11MO FCC_A10NB')\n",
    "\n",
    "g_gamma = parse_expr(str(m_gamma.ast))\n",
    "#print expr\n",
    "\n",
    "#dm = diff(expr, MU_PHASE2NI)\n",
    "#print dm\n",
    "\n",
    "#dm2 = diff(expr, MU_PHASE2NI, MU_PHASE2NI)\n",
    "#print dm2\n",
    "\n",
    "#codegen([('energy',expr),('first_der',dm),('second_der',dm2)], language='C', to_files=True)"
   ]
  },
  {
   "cell_type": "code",
   "execution_count": 6,
   "metadata": {
    "collapsed": false
   },
   "outputs": [],
   "source": [
    "c_mu = list(set([i for c in tdb.phases['MU_PHASE'].constituents for i in c]))\n",
    "m_mu = Model(tdb, c_mu, 'MU_PHASE')\n",
    "\n",
    "#MU_PHASE1NI, MU_PHASE1MO, MU_PHASE1NB = symbols('MU_PHASE1NI MU_PHASE1MO MU_PHASE1NB')\n",
    "\n",
    "g_mu = parse_expr(str(m_mu.ast))"
   ]
  },
  {
   "cell_type": "code",
   "execution_count": 7,
   "metadata": {
    "collapsed": false
   },
   "outputs": [],
   "source": [
    "c_delta = list(set([i for c in tdb.phases['DELTA'].constituents for i in c]))\n",
    "m_delta = Model(tdb, c_delta, 'DELTA')\n",
    "\n",
    "#MU_PHASE1NI, MU_PHASE1MO, MU_PHASE1NB = symbols('MU_PHASE1NI MU_PHASE1MO MU_PHASE1NB')\n",
    "\n",
    "g_delta = parse_expr(str(m_delta.ast))"
   ]
  },
  {
   "cell_type": "code",
   "execution_count": 8,
   "metadata": {
    "collapsed": false
   },
   "outputs": [],
   "source": [
    "c_bcc = list(set([i for c in tdb.phases['BCC_A2'].constituents for i in c]))\n",
    "m_bcc = Model(tdb, c_bcc, 'BCC_A2')\n",
    "\n",
    "#MU_PHASE1NI, MU_PHASE1MO, MU_PHASE1NB = symbols('MU_PHASE1NI MU_PHASE1MO MU_PHASE1NB')\n",
    "\n",
    "g_bcc = parse_expr(str(m_bcc.ast))"
   ]
  },
  {
   "cell_type": "code",
   "execution_count": 9,
   "metadata": {
    "collapsed": false
   },
   "outputs": [],
   "source": [
    "codegen([('g_gam',g_gamma), ('g_mu',g_mu), ('g_del',g_delta), ('g_bcc',g_bcc)],\n",
    "        language='C', prefix='energy625', project='ALLOY625', to_files=True)"
   ]
  },
  {
   "cell_type": "code",
   "execution_count": 10,
   "metadata": {
    "collapsed": false
   },
   "outputs": [
    {
     "name": "stdout",
     "output_type": "stream",
     "text": [
      "(1.0, 1.0)\n",
      "(3.0, 1.0)\n",
      "(6.0, 4.0, 3.0)\n",
      "(1.0, 3.0)\n"
     ]
    }
   ],
   "source": [
    "print m_gamma.site_ratios\n",
    "print m_delta.site_ratios\n",
    "print m_mu.site_ratios\n",
    "print m_bcc.site_ratios"
   ]
  },
  {
   "cell_type": "markdown",
   "metadata": {},
   "source": [
    "## SymPy system of equations"
   ]
  },
  {
   "cell_type": "code",
   "execution_count": null,
   "metadata": {
    "collapsed": true
   },
   "outputs": [],
   "source": [
    "from sympy import Eq, solve\n",
    "a1, a2, a3 = symbols('a1 a2 a3')\n",
    "xMO, xNB, xNI = symbols('xMO xNB xNI')"
   ]
  },
  {
   "cell_type": "code",
   "execution_count": 29,
   "metadata": {
    "collapsed": false
   },
   "outputs": [
    {
     "data": {
      "text/plain": [
       "[]"
      ]
     },
     "execution_count": 29,
     "metadata": {},
     "output_type": "execute_result"
    }
   ],
   "source": [
    "# Delta phase: Cannot be solved without more information,\n",
    "#           would need to iteratively determine internal\n",
    "#           phase equilibrium in terms of {y}.\n",
    "#           Unless one of the second sublattice's constituents\n",
    "#           doesn't vary much in the temperature region of interest...\n",
    "\n",
    "y1NB, y1NI, y2MO, y2NB, y2NI = symbols('y1NB y1NI y2MO y2NB y2NI')\n",
    "\n",
    "ed1 = Eq(a1*y1NB + a2*y2NB, xNB)\n",
    "ed2 = Eq(a1*y1NI + a2*y2NI, xNI)\n",
    "ed3 = Eq(a2*y2MO, xMO)\n",
    "ed4 = Eq(y1NB + y1NI, 1)\n",
    "ed5 = Eq(y2MO + y2NB + y2NI, 1)\n",
    "\n",
    "solve([ed1,ed2,ed3,ed4,ed5],[y1NB,y1NI,y2MO,y2NB,y2NI])"
   ]
  },
  {
   "cell_type": "code",
   "execution_count": 31,
   "metadata": {
    "collapsed": false
   },
   "outputs": [
    {
     "data": {
      "text/plain": [
       "[]"
      ]
     },
     "execution_count": 31,
     "metadata": {},
     "output_type": "execute_result"
    }
   ],
   "source": [
    "# mu phase: Cannot be solved without more information,\n",
    "#           would need to iteratively determine internal\n",
    "#           phase equilibrium in terms of {y}.\n",
    "#           Unless one of the second sublattice's constituents\n",
    "#           doesn't vary much in the temperature region of interest...\n",
    "\n",
    "y1NI, y2MO, y2NB, y3MO, y3NB, y3NI, Z = symbols('y1NI y2MO y2NB y3MO y3NB y3NI Z')\n",
    "\n",
    "em1 = Eq(a1*y1NI + a3*y3NI, xNI)\n",
    "em2 = Eq(a2*y2MO + a3*y3MO, xMO)\n",
    "em3 = Eq(a2*y2NB + a3*y3NB, xNB)\n",
    "em4 = Eq(y1NI, 1)\n",
    "em5 = Eq(y2MO + y2NB, 1)\n",
    "em6 = Eq(y3MO + y3NB + y3NI, 1)\n",
    "em7 = Eq(y2NB,Z)\n",
    "\n",
    "solve([em1,em2,em3,em4,em5,em6],[y1NI,y2MO,y2NB,y3MO,y3NB,y3NI])"
   ]
  },
  {
   "cell_type": "code",
   "execution_count": null,
   "metadata": {
    "collapsed": true
   },
   "outputs": [],
   "source": []
  }
 ],
 "metadata": {
  "kernelspec": {
   "display_name": "Python 2",
   "language": "python",
   "name": "python2"
  },
  "language_info": {
   "codemirror_mode": {
    "name": "ipython",
    "version": 2
   },
   "file_extension": ".py",
   "mimetype": "text/x-python",
   "name": "python",
   "nbconvert_exporter": "python",
   "pygments_lexer": "ipython2",
   "version": "2.7.12"
  }
 },
 "nbformat": 4,
 "nbformat_minor": 0
}
