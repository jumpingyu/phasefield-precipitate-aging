{
 "cells": [
  {
   "cell_type": "markdown",
   "metadata": {},
   "source": [
    "# Gibbs free energy expressions for IN625 from ternary CALPHAD DB"
   ]
  },
  {
   "cell_type": "markdown",
   "metadata": {},
   "source": [
    "This notebook extracts relevant thermodynamic functions necessary for the phase-field model of solid-state transformations in additive superalloy 625, represented as a ternary (Cr-Nb-Ni) with γ, δ, μ, and Laves phases competing. The thermodynamic database was prepared by U. Kattner after\n",
    "\n",
    "    @Article{Du2005,\n",
    "        Title                    = {A thermodynamic modeling of the Cr–Nb–Ni system },\n",
    "        Author                   = {Yong Du and Shuhong Liu and Y.A. Chang and Ying Yang},\n",
    "        Journal                  = {Calphad},\n",
    "        Year                     = {2005},\n",
    "        Volume                   = {29},\n",
    "        Number                   = {2},\n",
    "        Pages                    = {140 - 148},\n",
    "        Doi                      = {10.1016/j.calphad.2005.06.001}\n",
    "    }\n",
    "\n",
    "This database models the phases of interest as follows:\n",
    "- γ as $\\mathrm{(Cr, Nb, Ni)}$\n",
    "- δ as $\\mathrm{(\\mathbf{Nb}, Ni)_1(Cr, Nb, \\mathbf{Ni})_3}$\n",
    "- μ as $\\mathrm{Nb_6(Cr, Nb, Ni)_7}$\n",
    "- Laves as $\\mathrm{(\\mathbf{Cr}, Nb, Ni)_2(Cr, \\mathbf{Nb})_1}$\n",
    "\n",
    "The phase field model requires Gibbs free energies as functions of system compositions $x_\\mathrm{Cr}$, $x_\\mathrm{Nb}$, $x_\\mathrm{Ni}$. The Calphad database represents these energies as functions of sublattice compositions $y$ in each phase. To avoid solving for internal phase equilibrium at each point in the simulation, approximations have been made to allow the following one-to-one mappings between $x$ and $y$:\n",
    "- γ: no changes necessary\n",
    "    * $y_\\mathrm{Cr}' = x_\\mathrm{Cr}$\n",
    "    * $y_\\mathrm{Nb}' = x_\\mathrm{Nb}$\n",
    "    * $y_\\mathrm{Ni}' = x_\\mathrm{Ni}$\n",
    "- δ: eliminate Nb from the second (Ni) sublattice, $\\mathrm{(\\mathbf{Nb}, Ni)_1(Cr, \\mathbf{Ni})_3}$\n",
    "    * $y_\\mathrm{Nb}'  = 4x_\\mathrm{Nb}$\n",
    "    * $y_\\mathrm{Ni}'  = 1-4x_\\mathrm{Nb}$\n",
    "    * $y_\\mathrm{Cr}'' = \\frac{4}{3}x_\\mathrm{Cr}$\n",
    "    * $y_\\mathrm{Ni}'' = 1-\\frac{4}{3}x_\\mathrm{Cr}$\n",
    "    * Constraints: $x_\\mathrm{Nb}\\leq\\frac{1}{4}$ and $x_\\mathrm{Cr}\\leq\\frac{3}{4}$\n",
    "- μ: no changes necessary\n",
    "    * $y_\\mathrm{Nb}'  = 1$\n",
    "    * $y_\\mathrm{Cr}'' = x_\\mathrm{Cr}$\n",
    "    * $y_\\mathrm{Nb}'' = \\frac{13}{7}x_\\mathrm{Nb}-\\frac{6}{7}$\n",
    "    * $y_\\mathrm{Ni}'' = x_\\mathrm{Ni}$\n",
    "    * Constraints: $x_\\mathrm{Cr}\\leq\\frac{7}{13}$ and $x_\\mathrm{Nb}\\geq\\frac{6}{13}$ and $x_\\mathrm{Ni}\\leq\\frac{7}{13}$\n",
    "- Laves: eliminate Nb from the first (Cr) sublattice, $\\mathrm{(\\mathbf{Cr}, Ni)_2(Cr, \\mathbf{Nb})_1}$\n",
    "    * $y_\\mathrm{Cr}' = 1-\\frac{3}{2}x_\\mathrm{Ni}$ with $0\\leq x_\\mathrm{Ni}\\leq\\frac{2}{3}$\n",
    "    * $y_\\mathrm{Ni}' = \\frac{3}{2}x_\\mathrm{Ni}$ with $0\\leq x_\\mathrm{Ni}\\leq\\frac{2}{3}$\n",
    "    * $y_\\mathrm{Cr}'' = 1-3x_\\mathrm{Nb}$   with $0\\leq x_\\mathrm{Nb}\\leq\\frac{1}{3}$\n",
    "    * $y_\\mathrm{Nb}'' = 3x_\\mathrm{Nb}$   with $0\\leq x_\\mathrm{Nb}\\leq\\frac{1}{3}$"
   ]
  },
  {
   "cell_type": "code",
   "execution_count": 42,
   "metadata": {
    "collapsed": false
   },
   "outputs": [],
   "source": [
    "%matplotlib inline\n",
    "# Numerical libraries\n",
    "import numpy as np\n",
    "from scipy.optimize import fsolve\n",
    "from sympy.utilities.lambdify import lambdify\n",
    "from scipy.spatial import ConvexHull\n",
    "\n",
    "# Runtime / parallel libraries\n",
    "import time, warnings\n",
    "from itertools import chain\n",
    "from multiprocessing import Pool\n",
    "\n",
    "# Thermodynamics and computer-algebra libraries\n",
    "from pycalphad import Database, calculate, Model\n",
    "from sympy.utilities.codegen import codegen\n",
    "from sympy.parsing.sympy_parser import parse_expr\n",
    "from sympy import And, Ge, Gt, Le, Lt, Or, Piecewise, true\n",
    "from sympy import Abs, cse, diff, logcombine, powsimp, symbols, sympify\n",
    "\n",
    "# Visualization libraries\n",
    "import matplotlib.pylab as plt\n",
    "from ipywidgets import FloatProgress\n",
    "from IPython.display import display"
   ]
  },
  {
   "cell_type": "code",
   "execution_count": 43,
   "metadata": {
    "collapsed": true
   },
   "outputs": [],
   "source": [
    "# Constants\n",
    "epsilon = 1e-8 # tolerance for comparing floating-point numbers to zero\n",
    "dx = 0.1 # small offset to avoid valid roots at edges of defined regions\n",
    "temp = 870.0 + 273.15 # 1143 Kelvin\n",
    "#temp = 1050.0 + 273.15 # Kelvin\n",
    "\n",
    "RT = 8.3144598*temp # J/mol/K\n",
    "Vm = 1.0e-5 # mol/m^3\n",
    "inVm = 1.0 / Vm # m^3/mol\n",
    "errslope = 5.0e5 # J/(mol/mol)m curvature of parabola outside phase-specific domain\n",
    "madslope = 5.0e5 # J/(mol/mol)m curvature of parabola outside [0,1]\n",
    "\n",
    "# Let's avoid integer arithmetic in fractions.\n",
    "fr13by7 = 13.0/7\n",
    "fr13by3 = 13.0/3\n",
    "fr13by4 = 13.0/4\n",
    "fr6by7 = 6.0/7\n",
    "fr6by13 = 6.0/13\n",
    "fr7by13 = 7.0/13\n",
    "fr3by4 = 3.0/4\n",
    "fr3by2 = 3.0/2\n",
    "fr4by3 = 4.0/3\n",
    "fr2by3 = 2.0/3\n",
    "fr1by3 = 1.0/3\n",
    "fr1by2 = 1.0/2\n",
    "rt3by2 = np.sqrt(3.0)/2\n"
   ]
  },
  {
   "cell_type": "code",
   "execution_count": 44,
   "metadata": {
    "collapsed": false
   },
   "outputs": [],
   "source": [
    "# Read CALPHAD database from disk, specify phases and elements of interest\n",
    "tdb = Database('Du_Cr-Nb-Ni_simple.tdb')\n",
    "phases = ['FCC_A1', 'D0A_NBNI3', 'D85_NI7NB6', 'C14_LAVES', 'C15_LAVES', 'BCC_A2']\n",
    "elements = ['CR', 'NB', 'NI']"
   ]
  },
  {
   "cell_type": "markdown",
   "metadata": {},
   "source": [
    "## Export Gibbs functions using SymPy"
   ]
  },
  {
   "cell_type": "code",
   "execution_count": 45,
   "metadata": {
    "collapsed": false
   },
   "outputs": [],
   "source": [
    "c_gamma = list(set([i for c in tdb.phases['FCC_A1'].constituents for i in c]))\n",
    "m_gamma = Model(tdb, c_gamma, 'FCC_A1')\n",
    "g_gamma = parse_expr(str(m_gamma.ast))"
   ]
  },
  {
   "cell_type": "code",
   "execution_count": 46,
   "metadata": {
    "collapsed": false
   },
   "outputs": [],
   "source": [
    "c_delta = list(set([i for c in tdb.phases['D0A_NBNI3'].constituents for i in c]))\n",
    "m_delta = Model(tdb, c_delta, 'D0A_NBNI3')\n",
    "g_delta = parse_expr(str(m_delta.ast))"
   ]
  },
  {
   "cell_type": "code",
   "execution_count": 47,
   "metadata": {
    "collapsed": false
   },
   "outputs": [],
   "source": [
    "c_mu = list(set([i for c in tdb.phases['D85_NI7NB6'].constituents for i in c]))\n",
    "m_mu = Model(tdb, c_mu, 'D85_NI7NB6')\n",
    "g_mu = parse_expr(str(m_mu.ast))"
   ]
  },
  {
   "cell_type": "code",
   "execution_count": 48,
   "metadata": {
    "collapsed": false
   },
   "outputs": [],
   "source": [
    "c_lavesHT = list(set([i for c in tdb.phases['C14_LAVES'].constituents for i in c]))\n",
    "m_lavesHT = Model(tdb, c_lavesHT, 'C14_LAVES')\n",
    "g_lavesHT = parse_expr(str(m_lavesHT.ast))"
   ]
  },
  {
   "cell_type": "code",
   "execution_count": 49,
   "metadata": {
    "collapsed": false
   },
   "outputs": [],
   "source": [
    "c_lavesLT = list(set([i for c in tdb.phases['C15_LAVES'].constituents for i in c]))\n",
    "m_lavesLT = Model(tdb, c_lavesLT, 'C15_LAVES')\n",
    "g_lavesLT = parse_expr(str(m_lavesLT.ast))"
   ]
  },
  {
   "cell_type": "code",
   "execution_count": 50,
   "metadata": {
    "collapsed": false
   },
   "outputs": [],
   "source": [
    "c_bcc = list(set([i for c in tdb.phases['BCC_A2'].constituents for i in c]))\n",
    "m_bcc = Model(tdb, c_bcc, 'BCC_A2')\n",
    "g_bcc = parse_expr(str(m_bcc.ast))"
   ]
  },
  {
   "cell_type": "markdown",
   "metadata": {},
   "source": [
    "## Convert sublattice to phase composition (y to x)"
   ]
  },
  {
   "cell_type": "code",
   "execution_count": 51,
   "metadata": {
    "collapsed": true
   },
   "outputs": [],
   "source": [
    "# Declare sublattice variables used in Pycalphad expressions\n",
    "# Gamma\n",
    "FCC_A10CR, FCC_A10NB, FCC_A10NI, FCC_A11VA = symbols('FCC_A10CR FCC_A10NB FCC_A10NI FCC_A11VA')\n",
    "# Delta\n",
    "D0A_NBNI30NI, D0A_NBNI30NB, D0A_NBNI31CR, D0A_NBNI31NI = symbols('D0A_NBNI30NI D0A_NBNI30NB D0A_NBNI31CR D0A_NBNI31NI')\n",
    "# Mu\n",
    "D85_NI7NB60NB, D85_NI7NB61CR, D85_NI7NB61NB, D85_NI7NB61NI = symbols('D85_NI7NB60NB D85_NI7NB61CR D85_NI7NB61NB D85_NI7NB61NI')\n",
    "# Laves\n",
    "C14_LAVES0CR, C14_LAVES0NI, C14_LAVES1CR, C14_LAVES1NB = symbols('C14_LAVES0CR C14_LAVES0NI C14_LAVES1CR C14_LAVES1NB') \n",
    "C15_LAVES0CR, C15_LAVES0NI, C15_LAVES1CR, C15_LAVES1NB = symbols('C15_LAVES0CR C15_LAVES0NI C15_LAVES1CR C15_LAVES1NB') \n",
    "# BCC\n",
    "BCC_A20CR, BCC_A20NB, BCC_A20NI, BCC_A21VA = symbols('BCC_A20CR BCC_A20NB BCC_A20NI BCC_A21VA')\n",
    "# Temperature\n",
    "T = symbols('T')\n",
    "\n",
    "# Declare system variables for target expressions\n",
    "GAMMA_XCR, GAMMA_XNB, GAMMA_XNI = symbols('GAMMA_XCR GAMMA_XNB GAMMA_XNI')\n",
    "DELTA_XCR, DELTA_XNB, DELTA_XNI = symbols('DELTA_XCR DELTA_XNB DELTA_XNI')\n",
    "MU_XCR, MU_XNB, MU_XNI = symbols('MU_XCR MU_XNB MU_XNI')\n",
    "LAVES_XCR, LAVES_XNB, LAVES_XNI = symbols('LAVES_XCR LAVES_XNB LAVES_XNI')\n",
    "BCC_XCR, BCC_XNB, BCC_XNI = symbols('BCC_XCR BCC_XNB BCC_XNI')"
   ]
  },
  {
   "cell_type": "code",
   "execution_count": 52,
   "metadata": {
    "collapsed": false
   },
   "outputs": [],
   "source": [
    "# Make substitutions\n",
    "\n",
    "g_delta_raw = inVm * g_delta.subs({\n",
    "                     D0A_NBNI30NB: 4.0*DELTA_XNB,\n",
    "                     D0A_NBNI30NI: 1.0 - 4.0*DELTA_XNB,\n",
    "                     D0A_NBNI31CR: fr4by3 * DELTA_XCR,\n",
    "                     D0A_NBNI31NI: 1.0 - fr4by3 * DELTA_XCR,\n",
    "                     T: temp})\n",
    "\n",
    "g_mu_raw = inVm * g_mu.subs({\n",
    "                  D85_NI7NB60NB: 1.0,\n",
    "                  D85_NI7NB61CR: fr13by7*MU_XCR,\n",
    "                  D85_NI7NB61NB: fr13by7*MU_XNB - fr6by7,\n",
    "                  D85_NI7NB61NI: fr13by7*MU_XNI,\n",
    "                  T: temp})\n",
    "\n",
    "g_lavesHT_raw = inVm * g_lavesHT.subs({\n",
    "                  C14_LAVES0CR: 1.0 - fr3by2*LAVES_XNI,\n",
    "                  C14_LAVES0NI: fr3by2 * LAVES_XNI,\n",
    "                  C14_LAVES1CR: 1.0 - 3.0*LAVES_XNB,\n",
    "                  C14_LAVES1NB: 3.0 * LAVES_XNB,\n",
    "                  T: temp})\n",
    "\n",
    "g_lavesLT_raw = inVm * g_lavesLT.subs({\n",
    "                  C15_LAVES0CR: 1.0 - fr3by2*LAVES_XNI,\n",
    "                  C15_LAVES0NI: fr3by2 * LAVES_XNI,\n",
    "                  C15_LAVES1CR: 1.0 - 3.0*LAVES_XNB,\n",
    "                  C15_LAVES1NB: 3.0 * LAVES_XNB,\n",
    "                  T: temp})\n",
    "\n",
    "g_gamma = inVm * Piecewise((madslope*((GAMMA_XCR-fr1by3)**2 \n",
    "                                    + (GAMMA_XNB-fr1by3)**2\n",
    "                                    + (1.0-GAMMA_XCR-GAMMA_XNB-fr1by3)**2),\n",
    "                          Lt(GAMMA_XCR, 0.0) | \n",
    "                          Gt(GAMMA_XCR, 1.0) | \n",
    "                          Lt(GAMMA_XNB, 0.0) | \n",
    "                          Gt(GAMMA_XNB, 1.0) | \n",
    "                          Lt(GAMMA_XNI, 0.0) | \n",
    "                          Gt(GAMMA_XNI, 1.0)),\n",
    "                        (g_gamma.subs({FCC_A10CR: GAMMA_XCR,\n",
    "                        FCC_A10NB: GAMMA_XNB,\n",
    "                        FCC_A10NI: GAMMA_XNI,\n",
    "                        FCC_A11VA: 1.0,\n",
    "                        T: temp}), True))\n",
    "\n",
    "# Delta, Mu, and Laves are not valid over the entire simplex. Restrict their domains.\n",
    "g_delta = inVm * simplify(Piecewise((madslope*((DELTA_XCR-fr1by3)**2 \n",
    "                                             + (DELTA_XNB-fr1by3)**2 \n",
    "                                             + (1.0-DELTA_XCR-DELTA_XNB-fr1by3)**2),\n",
    "                          Lt(1-DELTA_XCR-DELTA_XNB, 0.0) | \n",
    "                          Gt(1-DELTA_XCR-DELTA_XNB, 1.0) | \n",
    "                          Lt(DELTA_XCR, 0.0) | \n",
    "                          Gt(DELTA_XCR, 1.0) |\n",
    "                          Lt(DELTA_XNB, 0.0) | \n",
    "                          Gt(DELTA_XNB, 1.0)),\n",
    "                    (g_delta.subs({\n",
    "                     D0A_NBNI30NB: 4.0*DELTA_XNB,\n",
    "                     D0A_NBNI30NI: 1.0 - 4.0*DELTA_XNB,\n",
    "                     D0A_NBNI31CR: fr4by3 * DELTA_XCR,\n",
    "                     D0A_NBNI31NI: 1.0 - fr4by3 * DELTA_XCR,\n",
    "                     T: temp}), \n",
    "                     And(Le(DELTA_XCR, 0.75), Le(DELTA_XNB, 0.25))),\n",
    "                    (errslope*((DELTA_XCR-0.75+dx)**2 + (DELTA_XNB-0.25+dx)**2), True))) # Delta depends only on xcr and xnb, not xni\n",
    "\n",
    "g_mu = inVm * simplify(Piecewise((madslope*((MU_XCR-fr1by3)**2 +\n",
    "                                          (MU_XNB-fr1by3)**2 + \n",
    "                                          (MU_XNI-fr1by3)**2),\n",
    "                                Lt(MU_XCR, 0.0) | \n",
    "                                Gt(MU_XCR, 1.0) | \n",
    "                                Lt(MU_XNB, 0.0) | \n",
    "                                Gt(MU_XNB, 1.0) | \n",
    "                                Lt(MU_XNI, 0.0) |\n",
    "                                Gt(MU_XNI, 1.0)),\n",
    "                 (g_mu.subs({\n",
    "                  D85_NI7NB60NB: 1.0,\n",
    "                  D85_NI7NB61CR: fr13by7*MU_XCR,\n",
    "                  D85_NI7NB61NB: fr13by7*MU_XNB - fr6by7,\n",
    "                  D85_NI7NB61NI: fr13by7*MU_XNI,\n",
    "                  T: temp}), \n",
    "                  And(Le(MU_XCR+MU_XNI, fr7by13), Ge(MU_XNB, fr6by13))),\n",
    "                (errslope*((MU_XCR+MU_XNI-fr7by13-dx)**2 + (MU_XNB-fr6by13-dx)**2), True))) # Mu depends only on xcr and xni, not xnb\n",
    "\n",
    "g_lavesHT = inVm * simplify(Piecewise((madslope*((1-LAVES_XNB-LAVES_XNI-fr1by3)**2 + \n",
    "                                               (LAVES_XNB-fr1by3)**2 + \n",
    "                                               (LAVES_XNI-fr1by3)**2),\n",
    "                                     Lt(LAVES_XNB, 0.0) | \n",
    "                                     Gt(LAVES_XNB, 1.0) | \n",
    "                                     Lt(LAVES_XNI, 0.0) | \n",
    "                                     Gt(LAVES_XNI, 1.0) | \n",
    "                                     Lt(1-LAVES_XNB-LAVES_XNI, 0.0) | \n",
    "                                     Gt(1-LAVES_XNB-LAVES_XNI, 1.0)),\n",
    "                 (g_lavesHT.subs({\n",
    "                  C14_LAVES0CR: 1.0 - fr3by2*LAVES_XNI,\n",
    "                  C14_LAVES0NI: fr3by2 * LAVES_XNI,\n",
    "                  C14_LAVES1CR: 1.0 - 3.0*LAVES_XNB,\n",
    "                  C14_LAVES1NB: 3.0 * LAVES_XNB,\n",
    "                  T: temp}), \n",
    "                  And(Lt(LAVES_XNB, fr1by3), Lt(LAVES_XNI, fr2by3))),\n",
    "                (errslope*((LAVES_XNB-fr1by3-dx)**2 + (LAVES_XNI-fr2by3+dx)**2), True))) # Laves depends only on xnb and xni, not xcr\n",
    "\n",
    "g_lavesLT = inVm * Piecewise((madslope*((1-LAVES_XNB-LAVES_XNI-fr1by3)**2 + \n",
    "                                      (LAVES_XNB-fr1by3)**2 + \n",
    "                                      (LAVES_XNI-fr1by3)**2),\n",
    "                                     Lt(LAVES_XNB, 0.0) | \n",
    "                                     Gt(LAVES_XNB, 1.0) | \n",
    "                                     Lt(LAVES_XNI, 0.0) | \n",
    "                                     Gt(LAVES_XNI, 1.0) | \n",
    "                                     Lt(1-LAVES_XNB-LAVES_XNI, 0.0) | \n",
    "                                     Gt(1-LAVES_XNB-LAVES_XNI, 1.0)),\n",
    "                 (g_lavesLT.subs({\n",
    "                  C15_LAVES0CR: 1.0 - fr3by2*LAVES_XNI,\n",
    "                  C15_LAVES0NI: fr3by2 * LAVES_XNI,\n",
    "                  C15_LAVES1CR: 1.0 - 3.0*LAVES_XNB,\n",
    "                  C15_LAVES1NB: 3.0 * LAVES_XNB,\n",
    "                  T: temp}), \\\n",
    "                  And(Lt(LAVES_XNB, fr1by3), Lt(LAVES_XNI, fr2by3))),\n",
    "                (errslope*((LAVES_XNB-fr1by3-dx)**2 + (LAVES_XNI-fr2by3+dx)**2), True))\n",
    "\n",
    "g_bcc = inVm * g_bcc.subs({BCC_A20CR: BCC_XCR,\n",
    "                    BCC_A20NB: BCC_XNB,\n",
    "                    BCC_A20NI: BCC_XNI,\n",
    "                    BCC_A21VA: 1.0,\n",
    "                    T: temp})"
   ]
  },
  {
   "cell_type": "code",
   "execution_count": 12,
   "metadata": {
    "collapsed": false
   },
   "outputs": [],
   "source": [
    "# Generate numerically efficient system-composition expressions\n",
    "Gg = lambdify((GAMMA_XCR, GAMMA_XNB, GAMMA_XNI), g_gamma)\n",
    "Gd = lambdify((DELTA_XCR, DELTA_XNB), g_delta)\n",
    "Gu = lambdify((MU_XCR, MU_XNB, MU_XNI), g_mu)\n",
    "Gh = lambdify((LAVES_XNB, LAVES_XNI), g_lavesHT)\n",
    "Gl = lambdify((LAVES_XNB, LAVES_XNI), g_lavesLT)\n",
    "Gb = lambdify((BCC_XCR, BCC_XNB, BCC_XNI), g_bcc)\n",
    "\n",
    "Gdr = lambdify((DELTA_XCR, DELTA_XNB), g_delta_raw)\n",
    "Gur = lambdify((MU_XCR, MU_XNB, MU_XNI), g_mu_raw)\n",
    "Ghr = lambdify((LAVES_XNB, LAVES_XNI), g_lavesHT_raw)\n",
    "Glr = lambdify((LAVES_XNB, LAVES_XNI), g_lavesLT_raw)"
   ]
  },
  {
   "cell_type": "code",
   "execution_count": 26,
   "metadata": {
    "collapsed": false
   },
   "outputs": [
    {
     "data": {
      "image/png": "[encoded data removed]",
      "text/plain": [
       "<matplotlib.figure.Figure at 0x7f9f36b8c950>"
      ]
     },
     "metadata": {},
     "output_type": "display_data"
    }
   ],
   "source": [
    "labels = [r'$\\gamma$', r'$\\delta$', r'$\\mu$', 'LavesHT', 'LavesLT', 'BCC', r'$\\delta$', r'$\\mu$', 'LavesHT', 'LavesLT']\n",
    "colors = ['red', 'green', 'blue', 'cyan', 'magenta', 'yellow', 'green', 'blue', 'cyan', 'magenta']\n",
    "\n",
    "# plot Gibbs energy curves for fixed x_Cr = 30% to check mu stability\n",
    "if True:\n",
    "    xcr = 0.3115\n",
    "    X = []\n",
    "    G = [[], [], [], [], [], [], [], [], [], []]\n",
    "\n",
    "    for xnb in np.linspace(-0.01+epsilon,1.01,501):\n",
    "        xni = 1-xcr-xnb\n",
    "        #if xni>0:\n",
    "        X.append(xnb)\n",
    "        G[0].append(g_gamma.subs({GAMMA_XCR: xcr, GAMMA_XNB: xnb, GAMMA_XNI: xni}))\n",
    "        G[1].append(g_delta.subs({DELTA_XCR: xcr, DELTA_XNB: xnb}))\n",
    "        G[2].append(g_mu.subs({MU_XCR: xcr, MU_XNB: xnb, MU_XNI: xni}))\n",
    "        G[3].append(g_lavesHT.subs({LAVES_XNB: xnb, LAVES_XNI: xni}))\n",
    "\n",
    "    plt.figure(figsize=(20, 20))\n",
    "    plt.xlabel(r'$x_\\mathrm{Nb}$', fontsize=24)\n",
    "    plt.ylabel(r'$\\mathcal{G}$', fontsize=24)\n",
    "    #plt.ylim([-2,10])\n",
    "    #for i in range(len(labels)):\n",
    "    for i in range(4):\n",
    "        plt.plot(X, G[i], color=colors[i], label=labels[i])\n",
    "    plt.legend(loc='best')"
   ]
  },
  {
   "cell_type": "code",
   "execution_count": 27,
   "metadata": {
    "collapsed": false
   },
   "outputs": [
    {
     "data": {
      "image/png": "[encoded data removed]",
      "text/plain": [
       "<matplotlib.figure.Figure at 0x7f9ec2e9d690>"
      ]
     },
     "metadata": {},
     "output_type": "display_data"
    }
   ],
   "source": [
    "# plot Gibbs energy curves for fixed x_Nb = 2% to check delta stability\n",
    "if True:\n",
    "    xnb = 0.02169\n",
    "    X = []\n",
    "    G = [[], [], [], [], [], [], [], [], [], []]\n",
    "\n",
    "    for xcr in np.linspace(-0.01+epsilon,1.01,501):\n",
    "        xni = 1-xcr-xnb\n",
    "        #if xni>0:\n",
    "        X.append(xcr)\n",
    "        G[0].append(g_gamma.subs({GAMMA_XCR: xcr, GAMMA_XNB: xnb, GAMMA_XNI: xni}))\n",
    "        G[1].append(g_delta.subs({DELTA_XCR: xcr, DELTA_XNB: xnb}))\n",
    "        G[2].append(g_mu.subs({MU_XCR: xcr, MU_XNB: xnb, MU_XNI: xni}))\n",
    "        G[3].append(g_lavesHT.subs({LAVES_XNB: xnb, LAVES_XNI: xni}))\n",
    "\n",
    "    plt.figure(figsize=(20, 20))\n",
    "    plt.xlabel(r'$x_\\mathrm{Cr}$', fontsize=24)\n",
    "    plt.ylabel(r'$\\mathcal{G}$', fontsize=24)\n",
    "    #plt.ylim([-1,1])\n",
    "#     for i in range(len(labels)):\n",
    "    for i in range(4):\n",
    "        plt.plot(X, G[i], color=colors[i], label=labels[i])\n",
    "    plt.legend(loc='best')"
   ]
  },
  {
   "cell_type": "markdown",
   "metadata": {},
   "source": [
    "# Generate a phase diagram\n",
    "Using scipy.spatial.ConvexHull, an interface to qhull. This method cannot provide phase fractions, chemical potentials, etc., but will quickly produce the correct diagram from the given Gibbs energies."
   ]
  },
  {
   "cell_type": "code",
   "execution_count": null,
   "metadata": {
    "collapsed": true
   },
   "outputs": [],
   "source": [
    "labels = [r'$\\gamma$', r'$\\delta$', r'$\\mu$', 'LavesHT', 'LavesLT', 'BCC']\n",
    "colors = ['red', 'green', 'blue', 'cyan', 'magenta', 'yellow']\n",
    "\n",
    "# triangle bounding the Gibbs simplex\n",
    "XS = [0.0, 1.0, 0.5, 0.0]\n",
    "YS = [0.0, 0.0,rt3by2, 0.0]\n",
    "# triangle bounding three-phase coexistence\n",
    "XT = [0.25, 0.4875+0.025/2,0.5375+0.4625/2, 0.25]\n",
    "YT = [0.0,  0.025*rt3by2, 0.4625*rt3by2, 0.0]\n",
    "# Tick marks along simplex edges\n",
    "Xtick = []\n",
    "Ytick = []\n",
    "for i in range(20):\n",
    "    # Cr-Ni edge\n",
    "    xcr = 0.05*i\n",
    "    xni = 1.0 - xcr\n",
    "    Xtick.append(xcr/2 - 0.002)\n",
    "    Ytick.append(rt3by2*xcr)\n",
    "    # Cr-Nb edge\n",
    "    xcr = 0.05*i\n",
    "    xnb = 1.0 - xcr\n",
    "    Xtick.append(xnb + xcr/2 + 0.002)\n",
    "    Ytick.append(rt3by2*xcr)"
   ]
  },
  {
   "cell_type": "code",
   "execution_count": null,
   "metadata": {
    "collapsed": true
   },
   "outputs": [],
   "source": [
    "def computeKernelExclusive(n):\n",
    "    a = n / density # index along x-axis\n",
    "    b = n % density # index along y-axis\n",
    "\n",
    "    xnb = epsilon + 1.0*a / (density-1)\n",
    "    xcr = epsilon + 1.0*b / (density-1)\n",
    "    xni = 1.0 - xcr - xnb\n",
    "\n",
    "    result = [0]*9\n",
    "    \n",
    "    if xni>0:\n",
    "        result[0] = xcr\n",
    "        result[1] = xnb\n",
    "        result[2] = xni\n",
    "        result[3] = Gg(xcr,xnb,xni)\n",
    "        result[4] = Gd(xcr,xnb)\n",
    "        result[5] = Gu(xcr,xnb,xni)\n",
    "        result[6] = Gh(xnb,xni)\n",
    "        result[7] = Gl(xnb,xni)\n",
    "        result[8] = Gb(xcr,xnb,xni)\n",
    "    \n",
    "    return result"
   ]
  },
  {
   "cell_type": "code",
   "execution_count": null,
   "metadata": {
    "collapsed": false,
    "scrolled": true
   },
   "outputs": [],
   "source": [
    "density = 501\n",
    "allCr = []\n",
    "allNb = []\n",
    "allG = []\n",
    "allID = []\n",
    "points = []\n",
    "phases = []\n",
    "\n",
    "if __name__ == '__main__':\n",
    "    starttime = time.time() # not exact, but multiprocessing makes time.clock() read from different cores\n",
    "\n",
    "    bar = FloatProgress(min=0,max=density**2)\n",
    "    display(bar)\n",
    "\n",
    "    pool = Pool(12)\n",
    "\n",
    "    i = 0\n",
    "    for result in pool.imap(computeKernelExclusive, range(density**2)):\n",
    "        xcr, xnb, xni, fg, fd, fu, fh, fl, fb = result\n",
    "        f = (fg, fd, fu, fh, fl, fb)\n",
    "\n",
    "        # Accumulate (x, y, G) points for each phase\n",
    "        if (fd**2 + fu**2 + fh**2 + fl**2) > epsilon:\n",
    "            for n in range(len(f)):\n",
    "                allCr.append(rt3by2*xcr)\n",
    "                allNb.append(xnb+xcr/2)\n",
    "                allG.append(f[n])\n",
    "                allID.append(n)\n",
    "        i += 1\n",
    "        bar.value = i\n",
    "\n",
    "    pool.close()\n",
    "    pool.join()\n",
    "    \n",
    "    points = np.array([allCr, allNb, allG]).T\n",
    "    \n",
    "    hull = ConvexHull(points)\n",
    "    \n",
    "    runtime = time.time() - starttime\n",
    "    print \"%ih:%im:%is elapsed\" % (int(runtime/3600), int(runtime/60)%60, int(runtime)%60)"
   ]
  },
  {
   "cell_type": "code",
   "execution_count": null,
   "metadata": {
    "collapsed": false
   },
   "outputs": [],
   "source": [
    "# Prepare arrays for plotting\n",
    "X = [[],[],[],[], [], []]\n",
    "Y = [[],[],[],[], [], []]\n",
    "tielines = []\n",
    "\n",
    "for simplex in hull.simplices:\n",
    "    for i in simplex:\n",
    "        X[allID[i]].append(allNb[i])\n",
    "        Y[allID[i]].append(allCr[i])\n",
    "        for j in simplex:\n",
    "            if allID[i] != allID[j]:\n",
    "                tielines.append([[allNb[i], allNb[j]],\n",
    "                                 [allCr[i], allCr[j]]])"
   ]
  },
  {
   "cell_type": "code",
   "execution_count": null,
   "metadata": {
    "collapsed": false
   },
   "outputs": [],
   "source": [
    "# Plot phase diagram\n",
    "pltsize = 20\n",
    "plt.figure(figsize=(pltsize, rt3by2*pltsize))\n",
    "plt.title(\"Cr-Nb-Ni at %.0fK\"%temp, fontsize=18)\n",
    "plt.xlim([0,1])\n",
    "plt.ylim([0,rt3by2])\n",
    "plt.xlabel(r'$x_\\mathrm{Nb}$', fontsize=24)\n",
    "plt.ylabel(r'$x_\\mathrm{Cr}$', fontsize=24)\n",
    "plt.plot(XS, YS, '-k')\n",
    "n = 0\n",
    "for tie in tielines:\n",
    "    plt.plot(tie[0], tie[1], '-k', alpha=0.025)\n",
    "for i in range(len(labels)):\n",
    "    plt.scatter(X[i], Y[i], color=colors[i], s=2.5, label=labels[i])\n",
    "plt.xticks(np.linspace(0, 1, 21))\n",
    "plt.scatter(Xtick, Ytick, color='black', s=3)\n",
    "plt.legend(loc='best')\n",
    "plt.show()"
   ]
  },
  {
   "cell_type": "markdown",
   "metadata": {
    "collapsed": true
   },
   "source": [
    "## Export C code\n",
    "If the phase diagram above looks \"right,\" proceed to code generation. "
   ]
  },
  {
   "cell_type": "code",
   "execution_count": 53,
   "metadata": {
    "collapsed": false
   },
   "outputs": [],
   "source": [
    "# Generate first derivatives\n",
    "dGgam_dxCr = diff(g_gamma, GAMMA_XCR)\n",
    "dGgam_dxNb = diff(g_gamma, GAMMA_XNB)\n",
    "dGgam_dxNi = diff(g_gamma, GAMMA_XNI)\n",
    "\n",
    "dGdel_dxCr = diff(g_delta, DELTA_XCR)\n",
    "dGdel_dxNb = diff(g_delta, DELTA_XNB)\n",
    "\n",
    "dGmu_dxCr = diff(g_mu, MU_XCR)\n",
    "dGmu_dxNi = diff(g_mu, MU_XNI)\n",
    "\n",
    "dGlavH_dxNb = diff(g_lavesHT, LAVES_XNB)\n",
    "dGlavH_dxNi = diff(g_lavesHT, LAVES_XNI)\n",
    "dGlavL_dxNb = diff(g_lavesLT, LAVES_XNB)\n",
    "dGlavL_dxNi = diff(g_lavesLT, LAVES_XNI)\n",
    "\n",
    "# Generate optimized second derivatives\n",
    "d2Ggam_dxCrCr = powsimp(logcombine(diff(dGgam_dxCr, GAMMA_XCR)))\n",
    "d2Ggam_dxCrNb = powsimp(logcombine(diff(dGgam_dxCr, GAMMA_XNB)))\n",
    "d2Ggam_dxNbCr = powsimp(logcombine(diff(dGgam_dxNb, GAMMA_XCR)))\n",
    "d2Ggam_dxNbNb = powsimp(logcombine(diff(dGgam_dxNb, GAMMA_XNB)))\n",
    "d2Ggam_dxNiCr = powsimp(logcombine(diff(dGgam_dxNi, GAMMA_XCR)))\n",
    "d2Ggam_dxNiNb = powsimp(logcombine(diff(dGgam_dxNi, GAMMA_XNB)))\n",
    "\n",
    "d2Gdel_dxCrCr = powsimp(logcombine(diff(dGdel_dxCr, DELTA_XCR)))\n",
    "d2Gdel_dxCrNb = powsimp(logcombine(diff(dGdel_dxCr, DELTA_XNB)))\n",
    "d2Gdel_dxNbCr = powsimp(logcombine(diff(dGdel_dxNb, DELTA_XCR)))\n",
    "d2Gdel_dxNbNb = powsimp(logcombine(diff(dGdel_dxNb, DELTA_XNB)))\n",
    "\n",
    "d2Gmu_dxCrCr = powsimp(logcombine(diff(dGmu_dxCr, MU_XCR)))\n",
    "d2Gmu_dxCrNi = powsimp(logcombine(diff(dGmu_dxCr, MU_XNI)))\n",
    "d2Gmu_dxNiCr = powsimp(logcombine(diff(dGmu_dxNi, MU_XCR)))\n",
    "d2Gmu_dxNiNi = powsimp(logcombine(diff(dGmu_dxNi, MU_XNI)))\n",
    "\n",
    "d2GlavH_dxNbNb = powsimp(logcombine(diff(dGlavH_dxNb, LAVES_XNB)))\n",
    "d2GlavH_dxNbNi = powsimp(logcombine(diff(dGlavH_dxNb, LAVES_XNI)))\n",
    "d2GlavH_dxNiNb = powsimp(logcombine(diff(dGlavH_dxNi, LAVES_XNB)))\n",
    "d2GlavH_dxNiNi = powsimp(logcombine(diff(dGlavH_dxNi, LAVES_XNI)))\n",
    "\n",
    "d2GlavL_dxNbNb = diff(dGlavL_dxNb, LAVES_XNB)\n",
    "d2GlavL_dxNbNi = diff(dGlavL_dxNb, LAVES_XNI)\n",
    "d2GlavL_dxNiNb = diff(dGlavL_dxNi, LAVES_XNB)\n",
    "d2GlavL_dxNiNi = diff(dGlavL_dxNi, LAVES_XNI)\n",
    "\n",
    "# Optimize primary expressions\n",
    "g_gamma   = powsimp(logcombine(g_gamma))\n",
    "g_delta   = powsimp(logcombine(g_delta))\n",
    "g_mu      = powsimp(logcombine(g_mu))\n",
    "g_lavesHT = powsimp(logcombine(g_lavesHT))\n",
    "\n",
    "# Optimize first derivatives\n",
    "dGgam_dxCr = powsimp(logcombine(dGgam_dxCr))\n",
    "dGgam_dxNb = powsimp(logcombine(dGgam_dxNb))\n",
    "dGgam_dxNi = powsimp(logcombine(dGgam_dxNi))\n",
    "dGdel_dxCr = powsimp(logcombine(dGdel_dxCr))\n",
    "dGdel_dxNb = powsimp(logcombine(dGdel_dxNb))\n",
    "dGmu_dxCr = powsimp(logcombine(dGmu_dxCr))\n",
    "dGmu_dxNi = powsimp(logcombine(dGmu_dxNi))\n",
    "dGlavH_dxNb = powsimp(logcombine(dGlavH_dxNb))\n",
    "dGlavH_dxNi = powsimp(dGlavH_dxNi)"
   ]
  },
  {
   "cell_type": "code",
   "execution_count": 54,
   "metadata": {
    "collapsed": false
   },
   "outputs": [],
   "source": [
    "# Write Gibbs energy functions to disk, for direct use in phase-field code\n",
    "codegen([# Gibbs energies\n",
    "         ('g_gam',g_gamma), ('g_mu',g_mu), ('g_lav',g_lavesHT), ('g_lavLT',g_lavesLT), ('g_del',g_delta),\n",
    "         # First derivatives\n",
    "         ('dg_gam_dxCr',dGgam_dxCr), ('dg_gam_dxNb',dGgam_dxNb), ('dg_gam_dxNi',dGgam_dxNi),\n",
    "         ('dg_del_dxCr',dGdel_dxCr), ('dg_del_dxNb',dGdel_dxNb),\n",
    "         ('dg_mu_dxCr',dGmu_dxCr), ('dg_mu_dxNi',dGmu_dxNi),\n",
    "         ('dg_lav_dxNb',dGlavH_dxNb), ('dg_lav_dxNi',dGlavH_dxNi),\n",
    "         ('dg_lavLT_dxNb',dGlavL_dxNb), ('dg_lavLT_dxNi',dGlavL_dxNi),\n",
    "         # Second derivatives\n",
    "         ('d2g_gam_dxCrCr',  d2Ggam_dxCrCr), ('d2g_gam_dxCrNb',d2Ggam_dxCrNb),\n",
    "         ('d2g_gam_dxNbCr',  d2Ggam_dxNbCr), ('d2g_gam_dxNbNb',d2Ggam_dxNbNb),\n",
    "         ('d2g_gam_dxNiCr',  d2Ggam_dxNiCr), ('d2g_gam_dxNiNb',d2Ggam_dxNiNb),\n",
    "         ('d2g_del_dxCrCr',  d2Gdel_dxCrCr), ('d2g_del_dxCrNb',d2Gdel_dxCrNb),\n",
    "         ('d2g_del_dxNbCr',  d2Gdel_dxNbCr), ('d2g_del_dxNbNb',d2Gdel_dxNbNb),\n",
    "         ('d2g_mu_dxCrCr',   d2Gmu_dxCrCr),  ('d2g_mu_dxCrNi', d2Gmu_dxCrNi),\n",
    "         ('d2g_mu_dxNiCr',   d2Gmu_dxNiCr),  ('d2g_mu_dxNiNi', d2Gmu_dxNiNi),\n",
    "         ('d2g_lav_dxNbNb',  d2GlavH_dxNbNb),('d2g_lav_dxNbNi',d2GlavH_dxNbNi),\n",
    "         ('d2g_lav_dxNiNb',  d2GlavH_dxNiNb),('d2g_lav_dxNiNi',d2GlavH_dxNiNi),\n",
    "         ('d2g_lavLT_dxNbNb',d2GlavL_dxNbNb),('d2g_lavLT_dxNbNi',d2GlavL_dxNbNi),\n",
    "         ('d2g_lavLT_dxNiNb',d2GlavL_dxNiNb),('d2g_lavLT_dxNiNi',d2GlavL_dxNiNi)],\n",
    "        language='C', prefix='energy625', project='ALLOY625', to_files=True)"
   ]
  },
  {
   "cell_type": "markdown",
   "metadata": {
    "collapsed": true
   },
   "source": [
    "## Interfacial Energy\n",
    "This is a naïve attempt to determine an appropriate interfacial energy for $\\mu$-phase by finding the balancing point of metastable equilibrium between $\\gamma$ and $\\mu$."
   ]
  },
  {
   "cell_type": "code",
   "execution_count": null,
   "metadata": {
    "collapsed": true
   },
   "outputs": [],
   "source": [
    "sigma_del = 1.01 # J/m^2\n",
    "sigma_mu = sigma_del #/ 10 # J/m^2\n",
    "sigma_lav = sigma_del #/ 10 # J/m^2\n",
    "sigma_gprime = sigma_del / 20 # J / m^2: absolute minimum interfacial energy!\n",
    "#if sigma_gprime > sigma_mu or sigma_gprime > sigma_lav:\n",
    "#    # complain bitterly and at length about breaking physics    \n",
    "\n",
    "rmax = 1.0e-8  # m\n",
    "rmin = 1.0e-16 # m\n",
    "Vm = 1.0e-5 # m**3/mol\n",
    "\n",
    "radius = 7.0e-9"
   ]
  },
  {
   "cell_type": "code",
   "execution_count": null,
   "metadata": {
    "collapsed": true
   },
   "outputs": [],
   "source": [
    "def computeKernelInterfacial(n):\n",
    "    a = n / density # index along x-axis\n",
    "    b = n % density # index along y-axis\n",
    "\n",
    "    xnb = epsilon + 1.0*a / (density-1)\n",
    "    xcr = epsilon + 1.0*b / (density-1)\n",
    "    xni = 1.0 - xcr - xnb\n",
    "\n",
    "    result = [0]*8\n",
    "    \n",
    "    if xni>0:\n",
    "        result[0] = xcr\n",
    "        result[1] = xnb\n",
    "        result[2] = xni\n",
    "        result[3] = Gg(xcr,xnb,xni)\n",
    "        result[4] = Gd(xcr,xnb)     + 2.0 * Vm * sigma_del / radius\n",
    "        result[5] = Gu(xcr,xnb,xni) + 2.0 * Vm * sigma_mu  / radius\n",
    "        result[6] = Gh(xnb,xni)     + 2.0 * Vm * sigma_lav / radius\n",
    "        result[7] = Gl(xnb,xni)     + 2.0 * Vm * sigma_lav / radius\n",
    "\n",
    "    return result"
   ]
  },
  {
   "cell_type": "code",
   "execution_count": null,
   "metadata": {
    "collapsed": false,
    "scrolled": true
   },
   "outputs": [],
   "source": [
    "density = 201\n",
    "allCr = []\n",
    "allNb = []\n",
    "allG = []\n",
    "allID = []\n",
    "points = []\n",
    "phases = []\n",
    "\n",
    "if __name__ == '__main__':\n",
    "    starttime = time.time() # not exact, but multiprocessing makes time.clock() read from different cores\n",
    "\n",
    "    bar = FloatProgress(min=0, max=density**2)\n",
    "    display(bar)\n",
    "\n",
    "    pool = Pool(12)\n",
    "\n",
    "    i = 0\n",
    "    for result in pool.imap(computeKernelInterfacial, range(density**2)):\n",
    "        # Excluding BCC\n",
    "        xcr, xnb, xni, fg, fd, fu, fh, fl = result\n",
    "        f = (fg, fd, fu, fh, fl)\n",
    "\n",
    "        # Accumulate (x, y, G) points for each phase\n",
    "        if (fd**2 + fu**2 + fh**2 + fl**2) > epsilon:\n",
    "            for n in range(len(f)):\n",
    "                allCr.append(rt3by2*xcr)\n",
    "                allNb.append(xnb+xcr/2)\n",
    "                allG.append(f[n])\n",
    "                allID.append(n)\n",
    "        i += 1\n",
    "        bar.value = i\n",
    "\n",
    "    pool.close()\n",
    "    pool.join()\n",
    "    \n",
    "    points = np.array([allCr, allNb, allG]).T\n",
    "    \n",
    "    hull = ConvexHull(points)\n",
    "    \n",
    "    runtime = time.time() - starttime\n",
    "    print \"%ih:%im:%is elapsed\" % (int(runtime/3600), int(runtime/60)%60, int(runtime)%60)"
   ]
  },
  {
   "cell_type": "code",
   "execution_count": null,
   "metadata": {
    "collapsed": false
   },
   "outputs": [],
   "source": [
    "# Prepare arrays for plotting\n",
    "X = [[],[],[],[], [], []]\n",
    "Y = [[],[],[],[], [], []]\n",
    "tielines = []\n",
    "\n",
    "for simplex in hull.simplices:\n",
    "    for i in simplex:\n",
    "        X[allID[i]].append(allNb[i])\n",
    "        Y[allID[i]].append(allCr[i])\n",
    "        for j in simplex:\n",
    "            if allID[i] != allID[j]:\n",
    "                tielines.append([[allNb[i], allNb[j]],\n",
    "                                 [allCr[i], allCr[j]]])"
   ]
  },
  {
   "cell_type": "code",
   "execution_count": null,
   "metadata": {
    "collapsed": false
   },
   "outputs": [],
   "source": [
    "# Plot phase diagram\n",
    "pltsize = 20\n",
    "plt.figure(figsize=(pltsize, rt3by2*pltsize))\n",
    "plt.title(\"Cr-Nb-Ni at %.0fK with r=%.0e m\"%(temp, radius), fontsize=18)\n",
    "plt.xlim([0,1])\n",
    "plt.ylim([0,rt3by2])\n",
    "plt.xlabel(r'$x_\\mathrm{Nb}$', fontsize=24)\n",
    "plt.ylabel(r'$x_\\mathrm{Cr}$', fontsize=24)\n",
    "plt.plot(XS, YS, '-k')\n",
    "for tie in tielines:\n",
    "    plt.plot(tie[0], tie[1], '-k', alpha=0.025)\n",
    "for i in range(len(labels)):\n",
    "    plt.scatter(X[i], Y[i], color=colors[i], s=2.5, label=labels[i])\n",
    "plt.xticks(np.linspace(0, 1, 21))\n",
    "plt.scatter(Xtick, Ytick, color='black', s=3)\n",
    "plt.legend(loc='best')\n",
    "plt.show()"
   ]
  },
  {
   "cell_type": "markdown",
   "metadata": {},
   "source": [
    "## Scan over precipitate sizes\n",
    "For the initial condition, need to know how big (or small) to make each precipitate."
   ]
  },
  {
   "cell_type": "code",
   "execution_count": null,
   "metadata": {
    "collapsed": false
   },
   "outputs": [],
   "source": [
    "density = 101\n",
    "lattice = 4\n",
    "r0 = 2.5e-9\n",
    "sigma = 1.01 # J/m^2\n",
    "sA = sigma\n",
    "sB = sigma\n",
    "sC = sigma\n",
    "\n",
    "def computeKernelLattice(n):\n",
    "    a = n / density # index along x-axis\n",
    "    b = n % density # index along y-axis\n",
    "\n",
    "    xnb = epsilon + 1.0*a / (density-1)\n",
    "    xcr = epsilon + 1.0*b / (density-1)\n",
    "    xni = 1.0 - xcr - xnb\n",
    "\n",
    "    result = [0]*8\n",
    "    \n",
    "    if xni>0:\n",
    "        result[0] = xcr\n",
    "        result[1] = xnb\n",
    "        result[2] = xni\n",
    "        result[3] = Gg(xcr,xnb,xni)\n",
    "        result[4] = Gd(xcr,xnb)     + 2.0 * Vm * sA / rA\n",
    "        result[5] = Gu(xcr,xnb,xni) + 2.0 * Vm * sB / rB\n",
    "        result[6] = Gh(xnb,xni)     + 2.0 * Vm * sC / rC\n",
    "        result[7] = Gl(xnb,xni)     + 2.0 * Vm * sC / rC\n",
    "\n",
    "    return result\n",
    "\n",
    "fig, axs = plt.subplots(lattice, lattice, sharex=True, sharey=True, figsize=(pltsize, pltsize))\n",
    "fig.suptitle(r\"Cr-Nb-Ni at %.0fK with $\\sigma_\\delta=%.2f, \\sigma_\\mu=%.2f, \\sigma_L=%.2f\\ \\mathrm{J/m^2}$\"%(temp,sA,sB,sC), fontsize=24)\n",
    "fig.tight_layout(pad=1.0, w_pad=2.5, h_pad=2.5)\n",
    "fig.subplots_adjust(top=0.95)\n",
    "\n",
    "bar = FloatProgress(min=0, max=lattice**2)\n",
    "display(bar)\n",
    "\n",
    "for p in range(lattice):\n",
    "    for q in range(lattice):\n",
    "        rA = r0 * (p+1) # m\n",
    "        rB = r0 * (q+1) # m\n",
    "        rC = rB         # m\n",
    "        \n",
    "        allCr = []\n",
    "        allNb = []\n",
    "        allG = []\n",
    "        allID = []\n",
    "        points = []\n",
    "        phases = []\n",
    "\n",
    "        pool = Pool(12)\n",
    "        for result in pool.imap(computeKernelLattice, range(density**2)):\n",
    "            xcr, xnb, xni, fg, fd, fu, fh, fl = result\n",
    "            f = (fg, fd, fu, fh, fl)\n",
    "\n",
    "            # Accumulate (x, y, G) points for each phase\n",
    "            if (fd**2 + fu**2 + fh**2 + fl**2) > epsilon:\n",
    "                for n in range(len(f)):\n",
    "                    allCr.append(rt3by2*xcr)\n",
    "                    allNb.append(xnb+xcr/2)\n",
    "                    allG.append(f[n])\n",
    "                    allID.append(n)\n",
    "        pool.close()\n",
    "        pool.join()\n",
    "\n",
    "        points = np.array([allCr, allNb, allG]).T\n",
    "\n",
    "        hull = ConvexHull(points)\n",
    "\n",
    "        X = [[],[],[],[], [], []]\n",
    "        Y = [[],[],[],[], [], []]\n",
    "        tielines = []\n",
    "\n",
    "        for simplex in hull.simplices:\n",
    "            for i in simplex:\n",
    "                X[allID[i]].append(allNb[i])\n",
    "                Y[allID[i]].append(allCr[i])\n",
    "                for j in simplex:\n",
    "                    if allID[i] != allID[j]:\n",
    "                        tielines.append([[allNb[i], allNb[j]],\n",
    "                                         [allCr[i], allCr[j]]])\n",
    "        \n",
    "        axs[p,q].set_xlim([0,1])\n",
    "        axs[p,q].set_ylim([0,rt3by2])\n",
    "        axs[p,q].set_xlabel(r'$r_\\mu=%.1f\\ \\mathrm{nm}$'%(2.5*(q+1)), fontsize=18)\n",
    "        axs[p,q].set_ylabel(r'$r_\\delta=%.1f\\ \\mathrm{nm}$'%(2.5*(p+1)), fontsize=18)\n",
    "        axs[p,q].plot(XS, YS, '-k', alpha=0.1)\n",
    "        for tie in tielines:\n",
    "            axs[p,q].plot(tie[0], tie[1], '-k', alpha=0.025)\n",
    "        for i in range(len(labels)):\n",
    "            axs[p,q].scatter(X[i], Y[i], color=colors[i], s=2.5)\n",
    "        bar.value = (p*lattice) + q + 1\n",
    "\n",
    "plt.show()"
   ]
  },
  {
   "cell_type": "markdown",
   "metadata": {},
   "source": [
    "### Take derivatives of annoying functions"
   ]
  },
  {
   "cell_type": "code",
   "execution_count": 21,
   "metadata": {
    "collapsed": false
   },
   "outputs": [
    {
     "name": "stdout",
     "output_type": "stream",
     "text": [
      "2*p*(8*p**3*sign(p) + 32*p**2*Abs(p) - 15*p**2 - 15*p*Abs(p)*sign(p) + 5*p*sign(p) + 10*Abs(p))\n"
     ]
    }
   ],
   "source": [
    "p = symbols('p', real=True)\n",
    "h = Abs(p)**3 * (16*p**2 - 15*Abs(p) + 10)\n",
    "hprime = simplify(diff(h, p))\n",
    "#print h\n",
    "print hprime\n"
   ]
  },
  {
   "cell_type": "code",
   "execution_count": null,
   "metadata": {
    "collapsed": true
   },
   "outputs": [],
   "source": []
  }
 ],
 "metadata": {
  "kernelspec": {
   "display_name": "Python 2",
   "language": "python",
   "name": "python2"
  },
  "language_info": {
   "codemirror_mode": {
    "name": "ipython",
    "version": 2
   },
   "file_extension": ".py",
   "mimetype": "text/x-python",
   "name": "python",
   "nbconvert_exporter": "python",
   "pygments_lexer": "ipython2",
   "version": "2.7.12"
  }
 },
 "nbformat": 4,
 "nbformat_minor": 0
}
