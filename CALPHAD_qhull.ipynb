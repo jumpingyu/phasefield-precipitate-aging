{
 "cells": [
  {
   "cell_type": "markdown",
   "metadata": {},
   "source": [
    "# Gibbs free energy expressions for IN625 from ternary CALPHAD DB"
   ]
  },
  {
   "cell_type": "markdown",
   "metadata": {},
   "source": [
    "This notebook extracts relevant thermodynamic functions necessary for the phase-field model of solid-state transformations in additive superalloy 625, represented as a ternary (Cr-Nb-Ni) with γ, δ, μ, and Laves phases competing. The thermodynamic database was prepared by U. Kattner after\n",
    "\n",
    "    @Article{Du2005,\n",
    "        Title                    = {A thermodynamic modeling of the Cr–Nb–Ni system },\n",
    "        Author                   = {Yong Du and Shuhong Liu and Y.A. Chang and Ying Yang},\n",
    "        Journal                  = {Calphad},\n",
    "        Year                     = {2005},\n",
    "        Volume                   = {29},\n",
    "        Number                   = {2},\n",
    "        Pages                    = {140 - 148},\n",
    "        Doi                      = {10.1016/j.calphad.2005.06.001}\n",
    "    }\n",
    "\n",
    "This database models the phases of interest as follows:\n",
    "- γ as $\\mathrm{(Cr, Nb, Ni)}$\n",
    "- δ as $\\mathrm{(\\mathbf{Nb}, Ni)_1(Cr, Nb, \\mathbf{Ni})_3}$\n",
    "- μ as $\\mathrm{Nb_6(Cr, Nb, Ni)_7}$\n",
    "- Laves as $\\mathrm{(Cr, \\mathbf{Nb})_1(\\mathbf{Cr}, Nb, Ni)_2}$\n",
    "\n",
    "The phase field model requires Gibbs free energies as functions of system compositions $x_\\mathrm{Cr}$, $x_\\mathrm{Nb}$, $x_\\mathrm{Ni}$. The Calphad database represents these energies as functions of sublattice compositions $y$ in each phase. To avoid solving for internal phase equilibrium at each point in the simulation, approximations have been made to allow the following one-to-one mappings between $x$ and $y$:\n",
    "- γ: no changes necessary\n",
    "    * $y_\\mathrm{Cr}' = x_\\mathrm{Cr}$     with $0\\leq x_\\mathrm{Cr}\\leq1$\n",
    "    * $y_\\mathrm{Nb}' = x_\\mathrm{Nb}$     with $0\\leq x_\\mathrm{Nb}\\leq1$\n",
    "    * $y_\\mathrm{Ni}' = x_\\mathrm{Ni}$     with $0\\leq x_\\mathrm{Ni}\\leq1$\n",
    "- δ: eliminate Nb from the second (Ni) sublattice, $\\mathrm{(\\mathbf{Nb}, Ni)_1(Cr, \\mathbf{Ni})_3}$\n",
    "    * $y_\\mathrm{Nb}'  = 4x_\\mathrm{Nb}$     with $0\\leq x_\\mathrm{Nb}\\leq\\frac{1}{4}$\n",
    "    * $y_\\mathrm{Ni}'  = 1-4x_\\mathrm{Nb}$   with $0\\leq x_\\mathrm{Nb}\\leq\\frac{1}{4}$\n",
    "    * $y_\\mathrm{Cr}'' = \\frac{4}{3}x_\\mathrm{Cr}$   with $0\\leq x_\\mathrm{Cr}\\leq\\frac{3}{4}$\n",
    "    * $y_\\mathrm{Ni}'' = 1-\\frac{4}{3}x_\\mathrm{Cr}$ with $0\\leq x_\\mathrm{Cr}\\leq\\frac{3}{4}$\n",
    "- μ: no changes necessary\n",
    "    * $y_\\mathrm{Nb}'  = 1$\n",
    "    * $y_\\mathrm{Cr}'' = x_\\mathrm{Cr}$      with $0\\leq x_\\mathrm{Cr}\\leq1$\n",
    "    * $y_\\mathrm{Nb}'' = \\frac{13}{7}x_\\mathrm{Nb}-\\frac{6}{7}$ with $\\frac{6}{13}\\leq x_\\mathrm{Nb}\\leq1$\n",
    "    * $y_\\mathrm{Ni}'' = x_\\mathrm{Ni}$      with $0\\leq x_\\mathrm{Ni}\\leq1$\n",
    "- Laves: eliminate Nb from the second (Cr) sublattice, $\\mathrm{(Cr, \\mathbf{Nb})_1(\\mathbf{Cr}, Ni)_2}$\n",
    "    * $y_\\mathrm{Cr}' = 1-3x_\\mathrm{Nb}$   with $0\\leq x_\\mathrm{Nb}\\leq\\frac{1}{3}$\n",
    "    * $y_\\mathrm{Nb}' = 3x_\\mathrm{Nb}$   with $0\\leq x_\\mathrm{Nb}\\leq\\frac{1}{3}$\n",
    "    * $y_\\mathrm{Cr}'' = 1-\\frac{3}{2}x_\\mathrm{Ni}$ with $0\\leq x_\\mathrm{Ni}\\leq\\frac{2}{3}$\n",
    "    * $y_\\mathrm{Ni}'' = \\frac{3}{2}x_\\mathrm{Ni}$ with $0\\leq x_\\mathrm{Ni}\\leq\\frac{2}{3}$"
   ]
  },
  {
   "cell_type": "code",
   "execution_count": null,
   "metadata": {
    "collapsed": false
   },
   "outputs": [],
   "source": [
    "%matplotlib inline\n",
    "# Numerical libraries\n",
    "import numpy as np\n",
    "from scipy.optimize import fsolve\n",
    "from sympy.utilities.lambdify import lambdify\n",
    "from scipy.spatial import ConvexHull\n",
    "\n",
    "# Runtime / parallel libraries\n",
    "import time, warnings\n",
    "from itertools import chain\n",
    "from multiprocessing import Pool\n",
    "\n",
    "# Thermodynamics and computer-algebra libraries\n",
    "from pycalphad import Database, calculate, Crdel\n",
    "from sympy.utilities.codegen import codegen\n",
    "from sympy.parsing.sympy_parser import parse_expr\n",
    "from sympy import And, diff, Gt, Lt, Piecewise, simplify, symbols, sympify\n",
    "\n",
    "# Visualization libraries\n",
    "import matplotlib.pylab as plt\n",
    "from ipywidgets import FloatProgress\n",
    "from IPython.display import display\n",
    "\n",
    "# Constants\n",
    "fr13by7 = 13.0/7\n",
    "fr13by3 = 13.0/3\n",
    "fr13by4 = 13.0/4\n",
    "fr3by4 = 3.0/4\n",
    "rt3by2 = np.sqrt(3.0)/2\n",
    "epsilon = 1e-8 # tolerance for comparing floating-point numbers to zero\n",
    "temp = 870.0 + 273.15 # 1143 Kelvin\n",
    "#temp = 1170.0 + 273.15 # Kelvin\n",
    "\n",
    "RT = 8.3144598*temp # J/mol/K"
   ]
  },
  {
   "cell_type": "code",
   "execution_count": null,
   "metadata": {
    "collapsed": false
   },
   "outputs": [],
   "source": [
    "#tdb = Database('mc_ni_v2.033.tdb')\n",
    "#tdb = Database('monbni-simple.tdb')\n",
    "#tdb = Database('Thermotech_Cr-Nb-Ni_FCC-delta-mu-BCC.tdb')\n",
    "#tdb = Database('Thermotech_Cr-Nb-Ni_FCC-delta-mu-BCC_simple.tdb')\n",
    "tdb = Database('Du_Cr-Nb-Ni_simple.tdb')"
   ]
  },
  {
   "cell_type": "code",
   "execution_count": null,
   "metadata": {
    "collapsed": true
   },
   "outputs": [],
   "source": [
    "phases = ['FCC_A1', 'DELTA', 'MU_PHASE', 'BCC_A2', 'LIQUID']\n",
    "elements = ['MO', 'NB', 'NI']"
   ]
  },
  {
   "cell_type": "markdown",
   "metadata": {},
   "source": [
    "## Export Gibbs functions using SymPy"
   ]
  },
  {
   "cell_type": "code",
   "execution_count": null,
   "metadata": {
    "collapsed": false
   },
   "outputs": [],
   "source": [
    "c_gamma = list(set([i for c in tdb.phases['FCC_A1'].constituents for i in c]))\n",
    "m_gamma = Crdel(tdb, c_gamma, 'FCC_A1')\n",
    "g_gamma = parse_expr(str(m_gamma.ast))"
   ]
  },
  {
   "cell_type": "code",
   "execution_count": null,
   "metadata": {
    "collapsed": false
   },
   "outputs": [],
   "source": [
    "c_delta = list(set([i for c in tdb.phases['DELTA'].constituents for i in c]))\n",
    "m_delta = Crdel(tdb, c_delta, 'DELTA')\n",
    "g_delta = parse_expr(str(m_delta.ast))"
   ]
  },
  {
   "cell_type": "code",
   "execution_count": null,
   "metadata": {
    "collapsed": false
   },
   "outputs": [],
   "source": [
    "c_mu = list(set([i for c in tdb.phases['MU_PHASE'].constituents for i in c]))\n",
    "m_mu = Crdel(tdb, c_mu, 'MU_PHASE')\n",
    "g_mu = parse_expr(str(m_mu.ast))"
   ]
  },
  {
   "cell_type": "code",
   "execution_count": null,
   "metadata": {
    "collapsed": false
   },
   "outputs": [],
   "source": [
    "c_bcc = list(set([i for c in tdb.phases['BCC_A2'].constituents for i in c]))\n",
    "m_bcc = Crdel(tdb, c_bcc, 'BCC_A2')\n",
    "g_bcc = parse_expr(str(m_bcc.ast))"
   ]
  },
  {
   "cell_type": "markdown",
   "metadata": {},
   "source": [
    "## Convert sublattice to phase composition (y to x)"
   ]
  },
  {
   "cell_type": "code",
   "execution_count": null,
   "metadata": {
    "collapsed": true
   },
   "outputs": [],
   "source": [
    "# Declare sublattice variables used in Pycalphad expressions\n",
    "FCC_A10MO, FCC_A10NB, FCC_A10NI, FCC_A11VA = symbols('FCC_A10MO FCC_A10NB FCC_A10NI FCC_A11VA')\n",
    "DELTA0NI, DELTA0NB, DELTA1MO, DELTA1NB, DELTA1NI = symbols('DELTA0NI DELTA0NB DELTA1MO DELTA1NB DELTA1NI')\n",
    "MU_PHASE0NI, MU_PHASE1MO, MU_PHASE1NB, MU_PHASE2MO, MU_PHASE2NB, MU_PHASE2NI = symbols('MU_PHASE0NI MU_PHASE1MO MU_PHASE1NB MU_PHASE2MO MU_PHASE2NB MU_PHASE2NI')\n",
    "BCC_A20MO, BCC_A20NB, BCC_A20NI, BCC_A21VA = symbols('BCC_A20MO BCC_A20NB BCC_A20NI BCC_A21VA')\n",
    "T = symbols('T')\n",
    "\n",
    "# Declare system variables for target expressions\n",
    "GAMMA_XMO, GAMMA_XNB, GAMMA_XNI = symbols('GAMMA_XMO GAMMA_XNB GAMMA_XNI')\n",
    "DELTA_XMO, DELTA_XNB, DELTA_XNI = symbols('DELTA_XMO DELTA_XNB DELTA_XNI')\n",
    "MU_XMO, MU_XNB, MU_XNI = symbols('MU_XMO MU_XNB MU_XNI')\n",
    "BCC_XMO, BCC_XNB, BCC_XNI = symbols('BCC_XMO BCC_XNB BCC_XNI')"
   ]
  },
  {
   "cell_type": "code",
   "execution_count": null,
   "metadata": {
    "collapsed": false
   },
   "outputs": [],
   "source": [
    "# Make substitutions\n",
    "        \n",
    "g_gamma = g_gamma.subs({FCC_A10MO: GAMMA_XMO,\n",
    "                        FCC_A10NB: GAMMA_XNB,\n",
    "                        FCC_A10NI: GAMMA_XNI,\n",
    "                        FCC_A11VA: 1,\n",
    "                        T: temp})\n",
    "\n",
    "# Approximate delta as a stoichiometric compound, (Nb,Ni)3(Cr,Nb,Ni) ==> Ni3(Cr,Nb,Ni)\n",
    "g_delta = Piecewise((g_delta.subs({DELTA0NI: 1.0,\n",
    "                     DELTA0NB: 0,\n",
    "                     DELTA1MO: 4.0*DELTA_XMO,\n",
    "                     DELTA1NB: 4.0*DELTA_XNB,\n",
    "                     DELTA1NI: 4.0*(DELTA_XNI-fr3by4),\n",
    "                     T: temp}), \\\n",
    "                     Lt(DELTA_XMO+DELTA_XNB, 0.25)),\n",
    "                    (0, True))\n",
    "\n",
    "# Substitution made possible by setting y3_Cr=y4_Cr\n",
    "g_mu = Piecewise((g_mu.subs({MU_PHASE0NI: 1.0,\n",
    "                  MU_PHASE1NB: 1.0 - fr13by7*MU_XMO,\n",
    "                  #MU_PHASE1NB: fr13by4*(MU_XNB-MU_XNI) + (39.0/28)*MU_XMO - 9.0/4,\n",
    "                  MU_PHASE1MO: fr13by7*MU_XMO,\n",
    "                  MU_PHASE2MO: fr13by7*MU_XMO,\n",
    "                  MU_PHASE2NB: 3.0 - fr13by7*MU_XMO - fr13by3*MU_XNI,\n",
    "                  MU_PHASE2NI: fr13by3*MU_XNI - 2.0,\n",
    "                  T: temp}), \\\n",
    "                  And(Gt(3.0 - fr13by7*MU_XMO - fr13by3*MU_XNI,0.), Gt(fr13by3*MU_XNI,2.))),\n",
    "                (0, True))\n",
    "\n",
    "g_bcc = g_bcc.subs({BCC_A20MO: BCC_XMO,\n",
    "                    BCC_A20NB: BCC_XNB,\n",
    "                    BCC_A20NI: BCC_XNI,\n",
    "                    BCC_A21VA: 1.0,\n",
    "                    T: temp})"
   ]
  },
  {
   "cell_type": "code",
   "execution_count": null,
   "metadata": {
    "collapsed": false
   },
   "outputs": [],
   "source": [
    "# Generate numerically efficient system-composition expressions\n",
    "Gg = lambdify((GAMMA_XMO, GAMMA_XNB, GAMMA_XNI), g_gamma, modules='numpy')\n",
    "Gd = lambdify((DELTA_XMO, DELTA_XNB, DELTA_XNI), g_delta, modules='numpy')\n",
    "Gu = lambdify((MU_XMO, MU_XNB, MU_XNI), g_mu, modules='numpy')\n",
    "Gb = lambdify((BCC_XMO, BCC_XNB, BCC_XNI), g_bcc, modules='numpy')"
   ]
  },
  {
   "cell_type": "code",
   "execution_count": null,
   "metadata": {
    "collapsed": false
   },
   "outputs": [],
   "source": [
    "labels = [r'$\\gamma$', r'$\\delta$', r'$\\mu$', 'BCC']\n",
    "colors = ['red', 'green','blue', 'yellow']\n",
    "\n",
    "# plot Gibbs energy curves for fixed x_Cr = 1% to check mu stability\n",
    "if True:\n",
    "    xmo = 0.01\n",
    "    X = []\n",
    "    G = [[],[],[],[]]\n",
    "\n",
    "    for xnb in np.linspace(epsilon,1,1001):\n",
    "        xni = 1-xmo-xnb\n",
    "        if xni>0:\n",
    "            X.append(xnb)\n",
    "            G[0].append(Gg(xmo,xnb,xni))\n",
    "            G[1].append(Gd(xmo,xnb,xni))\n",
    "            G[2].append(Gu(xmo,xnb,xni))\n",
    "            G[3].append(Gb(xmo,xnb,xni))\n",
    "\n",
    "    plt.figure(figsize=(8, 8))\n",
    "    plt.xlabel(r'$x_\\mathrm{Nb}$', fontsize=24)\n",
    "    plt.ylabel(r'$\\mathcal{G}$', fontsize=24)\n",
    "    plt.ylim([-100000, -40000])\n",
    "    for i in range(len(labels)):\n",
    "        plt.plot(X, G[i], color=colors[i], label=labels[i])\n",
    "    plt.legend(loc='best')"
   ]
  },
  {
   "cell_type": "code",
   "execution_count": null,
   "metadata": {
    "collapsed": false
   },
   "outputs": [],
   "source": [
    "# plot Gibbs energy curves for fixed x_Nb = 5% to check delta stability\n",
    "if True:\n",
    "    xnb = 0.05\n",
    "    X = []\n",
    "    G = [[],[],[],[]]\n",
    "\n",
    "    for xmo in np.linspace(epsilon,1,1001):\n",
    "        xni = 1-xmo-xnb\n",
    "        if xni>0:\n",
    "            X.append(xmo)\n",
    "            G[0].append(Gg(xmo,xnb,xni))\n",
    "            G[1].append(Gd(xmo,xnb,xni))\n",
    "            G[2].append(Gu(xmo,xnb,xni))\n",
    "            G[3].append(Gb(xmo,xnb,xni))\n",
    "\n",
    "    plt.figure(figsize=(8, 8))\n",
    "    plt.xlabel(r'$x_\\mathrm{Cr}$', fontsize=24)\n",
    "    plt.ylabel(r'$\\mathcal{G}$', fontsize=24)\n",
    "    plt.ylim([-100000, -40000])\n",
    "    for i in range(len(labels)):\n",
    "        plt.plot(X, G[i], color=colors[i], label=labels[i])\n",
    "    plt.legend(loc='best')"
   ]
  },
  {
   "cell_type": "markdown",
   "metadata": {},
   "source": [
    "# Generate a phase diagram\n",
    "Using scipy.spatial.ConvexHull, an interface to qhull. This method cannot provide phase fractions, chemical potentials, etc., but will quickly produce the correct diagram from the given Gibbs energies."
   ]
  },
  {
   "cell_type": "code",
   "execution_count": null,
   "metadata": {
    "collapsed": true
   },
   "outputs": [],
   "source": [
    "# triangle bounding the Gibbs simplex\n",
    "XS = [0.0, 1.0, 0.5, 0.0]\n",
    "YS = [0.0, 0.0,rt3by2, 0.0]\n",
    "# triangle bounding three-phase coexistence\n",
    "XT = [0.25, 0.4875+0.025/2,0.5375+0.4625/2, 0.25]\n",
    "YT = [0.0,  0.025*rt3by2, 0.4625*rt3by2, 0.0]"
   ]
  },
  {
   "cell_type": "code",
   "execution_count": null,
   "metadata": {
    "collapsed": true
   },
   "outputs": [],
   "source": [
    "def computeKernelExclusive(n):\n",
    "    a = n / density # index along x-axis\n",
    "    b = n % density # index along y-axis\n",
    "\n",
    "    xnb = epsilon + 1.0*a / (density-1)\n",
    "    xmo = epsilon + 1.0*b / (density-1)\n",
    "    xni = 1.0 - xmo - xnb\n",
    "\n",
    "    result = [0]*7\n",
    "    \n",
    "    if xni>0:\n",
    "        result[0] = xmo\n",
    "        result[1] = xnb\n",
    "        result[2] = xni\n",
    "        result[3] = Gg(xmo,xnb,xni)\n",
    "        result[4] = Gd(xmo,xnb,xni)\n",
    "        result[5] = Gu(xmo,xnb,xni)\n",
    "        result[6] = Gb(xmo,xnb,xni)\n",
    "    \n",
    "    return result"
   ]
  },
  {
   "cell_type": "code",
   "execution_count": null,
   "metadata": {
    "collapsed": false,
    "scrolled": true
   },
   "outputs": [],
   "source": [
    "density = 201\n",
    "allCr = []\n",
    "allNb = []\n",
    "allG = []\n",
    "allID = []\n",
    "points = []\n",
    "phases = []\n",
    "\n",
    "if __name__ == '__main__':\n",
    "    starttime = time.time() # not exact, but multiprocessing makes time.clock() read from different cores\n",
    "\n",
    "    bar = FloatProgress(min=0,max=density**2)\n",
    "    display(bar)\n",
    "\n",
    "    pool = Pool(12)\n",
    "\n",
    "    i = 0\n",
    "    for result in pool.imap(computeKernelExclusive, range(density**2)):\n",
    "        xmo, xnb, xni, fg, fd, fu, fb = result\n",
    "        f = (fg, fd, fu, fb)\n",
    "\n",
    "        # Accumulate (x, y, G) points for each phase\n",
    "        if (fd**2 + fu**2 + fb**2) > epsilon:\n",
    "            for n in range(len(f)):\n",
    "                allCr.append(rt3by2*xmo)\n",
    "                allNb.append(xnb+xmo/2)\n",
    "                allG.append(f[n])\n",
    "                allID.append(n)\n",
    "        i += 1\n",
    "        bar.value = i\n",
    "\n",
    "    pool.close()\n",
    "    pool.join()\n",
    "    \n",
    "    points = np.array([allCr, allNb, allG]).T\n",
    "    \n",
    "    hull = ConvexHull(points)\n",
    "    \n",
    "    runtime = time.time() - starttime\n",
    "    print \"%ih:%im:%is elapsed\" % (int(runtime/3600), int(runtime/60)%60, int(runtime)%60)"
   ]
  },
  {
   "cell_type": "code",
   "execution_count": null,
   "metadata": {
    "collapsed": false
   },
   "outputs": [],
   "source": [
    "# Prepare arrays for plotting\n",
    "labels = [r'$\\gamma$', r'$\\delta$', r'$\\mu$', 'BCC']\n",
    "colors = ['red', 'green','blue', 'yellow']\n",
    "X = [[],[],[],[]]\n",
    "Y = [[],[],[],[]]\n",
    "tielines = []\n",
    "trilines = []\n",
    "\n",
    "for simplex in hull.simplices:\n",
    "    for i in simplex:\n",
    "        X[allID[i]].append(allNb[i])\n",
    "        Y[allID[i]].append(allCr[i])\n",
    "        for j in simplex:\n",
    "            if allID[i]==allID[j]:\n",
    "                pass\n",
    "            tielines.append([[allNb[i], allNb[j]],\n",
    "                             [allCr[i], allCr[j]]])"
   ]
  },
  {
   "cell_type": "code",
   "execution_count": null,
   "metadata": {
    "collapsed": false
   },
   "outputs": [],
   "source": [
    "# Plot phase diagram\n",
    "pltsize = 20\n",
    "plt.figure(figsize=(pltsize, rt3by2*pltsize))\n",
    "plt.title(\"Cr-Nb-Ni at %.0fK\"%temp, fontsize=18)\n",
    "plt.xlim([0,1])\n",
    "plt.ylim([0,rt3by2])\n",
    "plt.xlabel(r'$x_\\mathrm{Nb}$', fontsize=24)\n",
    "plt.ylabel(r'$x_\\mathrm{Cr}$', fontsize=24)\n",
    "plt.plot(XS, YS, '-k')\n",
    "for tie in tielines:\n",
    "    plt.plot(tie[0], tie[1], '-k', alpha=0.02)\n",
    "for i in range(len(labels)):\n",
    "    plt.scatter(X[i], Y[i], color=colors[i], s=2.5, label=labels[i])\n",
    "plt.legend(loc='best')\n",
    "plt.show()"
   ]
  },
  {
   "cell_type": "markdown",
   "metadata": {
    "collapsed": true
   },
   "source": [
    "## Interfacial Energy\n",
    "This is a naïve attempt to determine an appropriate interfacial energy for $\\mu$-phase by finding the balancing point of metastable equilibrium between $\\gamma$ and $\\mu$."
   ]
  },
  {
   "cell_type": "code",
   "execution_count": null,
   "metadata": {
    "collapsed": true
   },
   "outputs": [],
   "source": [
    "sigma_del = 1.01 # J/m**2\n",
    "sigma_mu = sigma_del / 20 # J/m**2\n",
    "rmax = 1.0e-8  # 1 mm\n",
    "rmin = 1.0e-14 # 0.1 μm\n",
    "Vm = 1.0e-5 # m**3/mol\n",
    "\n",
    "def computeKernelInterfacial(n):\n",
    "    a = n / density # index along x-axis\n",
    "    b = n % density # index along y-axis\n",
    "\n",
    "    m = (1.0 - epsilon)/(density - 1)\n",
    "    xnb = m * a + epsilon\n",
    "    \n",
    "    m = (rmax - rmin) / (density - 1)\n",
    "    r = rmin + m * b\n",
    "\n",
    "    xmo = 0.01 # constant, midpoint of mu phase field\n",
    "    xni = 1 - xmo - xnb\n",
    "\n",
    "    result = [0]*7\n",
    "    \n",
    "    if xni>0:\n",
    "        result[0] = b\n",
    "        result[1] = xnb\n",
    "        result[2] = xni\n",
    "        result[3] = Gg(xmo,xnb,xni)\n",
    "        result[4] = Gd(xmo,xnb,xni) + 2.0 * Vm * sigma_del / r\n",
    "        result[5] = Gu(xmo,xnb,xni) + 2.0 * Vm * sigma_mu / r\n",
    "        result[6] = Gb(xmo,xnb,xni)\n",
    "\n",
    "    return result"
   ]
  },
  {
   "cell_type": "code",
   "execution_count": null,
   "metadata": {
    "collapsed": false
   },
   "outputs": [],
   "source": [
    "labels = [r'$\\gamma$', r'$\\delta$', r'$\\mu$', 'BCC']\n",
    "colors = ['red', 'green','blue', 'yellow']\n",
    "\n",
    "# plot Gibbs energy curves for fixed x_Cr = 1% to check mu stability\n",
    "if True:\n",
    "    xmo = 0.01\n",
    "    X = []\n",
    "    G = [[],[],[],[]]\n",
    "    radius = 1.0e-4\n",
    "\n",
    "    for xnb in np.linspace(epsilon,1,1001):\n",
    "        xni = 1-xmo-xnb\n",
    "        if xni>0:\n",
    "            X.append(xnb)\n",
    "            G[0].append(Gg(xmo,xnb,xni))\n",
    "            G[1].append(Gd(xmo,xnb,xni) + 2.0 * Vm * sigma_del / radius)\n",
    "            G[2].append(Gu(xmo,xnb,xni) + 2.0 * Vm * sigma_mu / radius)\n",
    "            G[3].append(Gb(xmo,xnb,xni))\n",
    "\n",
    "    plt.figure(figsize=(8, 8))\n",
    "    plt.xlabel(r'$x_\\mathrm{Nb}$', fontsize=24)\n",
    "    plt.ylabel(r'$\\mathcal{G}$', fontsize=24)\n",
    "    plt.ylim([-80000, -50000])\n",
    "    for i in range(len(labels)):\n",
    "        plt.plot(X, G[i], color=colors[i], label=labels[i])\n",
    "    plt.legend(loc='best')"
   ]
  },
  {
   "cell_type": "code",
   "execution_count": null,
   "metadata": {
    "collapsed": false,
    "scrolled": true
   },
   "outputs": [],
   "source": [
    "density = 1001\n",
    "allR = []\n",
    "allNb = []\n",
    "allG = []\n",
    "allID = []\n",
    "points = []\n",
    "phases = []\n",
    "\n",
    "\n",
    "if __name__ == '__main__':\n",
    "    starttime = time.time() # not exact, but multiprocessing makes time.clock() read from different cores\n",
    "\n",
    "    bar = FloatProgress(min=0,max=density**2) #(density-1)/2) \n",
    "    display(bar)\n",
    "\n",
    "    pool = Pool(12)\n",
    "\n",
    "    i = 0\n",
    "    for result in pool.imap(computeKernelInterfacial, range(density**2)):\n",
    "        r, xnb, xni, fg, fd, fu, fb = result\n",
    "\n",
    "        # Accumulate (x, G) points for each phase\n",
    "        if xni>0:\n",
    "            f = (fg, fd, fu, fb)\n",
    "            for n in range(len(f)):\n",
    "                allR.append(r)\n",
    "                allNb.append(xnb)\n",
    "                allG.append(f[n])\n",
    "                allID.append(n)\n",
    "        i += 1\n",
    "        bar.value = i\n",
    "\n",
    "    pool.close() # not adding any more processes\n",
    "    pool.join() # wait until all threads are done before going on\n",
    "        \n",
    "    \n",
    "    runtime = time.time() - starttime\n",
    "    print \"%ih:%im:%is elapsed\" % (int(runtime/3600), int(runtime/60)%60, int(runtime)%60)"
   ]
  },
  {
   "cell_type": "code",
   "execution_count": null,
   "metadata": {
    "collapsed": false
   },
   "outputs": [],
   "source": [
    "# Prepare arrays for plotting\n",
    "X = [[],[],[],[]]\n",
    "Y = [[],[],[],[]]\n",
    "tielines = []\n",
    "\n",
    "for r in range(density):\n",
    "    myI = []\n",
    "    myR = []\n",
    "    myN = []\n",
    "    myG = []\n",
    "    for n in range(len(allR)):\n",
    "        if allR[n]==r:\n",
    "            myI.append(allID[n]) # phase ID\n",
    "            myR.append(rmin + allR[n] * (rmax - rmin) / (density - 1))  # radius\n",
    "            myN.append(allNb[n]) # Nb conc\n",
    "            myG.append(allG[n])  # Gibbs energy\n",
    "    points = np.array([myN, myG]).T\n",
    "    hull = ConvexHull(points)\n",
    "\n",
    "    for simplex in hull.simplices:\n",
    "        for i in simplex:\n",
    "            Y[myI[i]].append(myR[i])\n",
    "            X[myI[i]].append(myN[i])\n",
    "            for j in simplex:\n",
    "                if myI[i]==myI[j]:\n",
    "                    pass\n",
    "                tielines.append([[myN[i], myN[j]],\n",
    "                                 [myR[i], myR[j]]])"
   ]
  },
  {
   "cell_type": "code",
   "execution_count": null,
   "metadata": {
    "collapsed": false
   },
   "outputs": [],
   "source": [
    "# Plot phase diagram\n",
    "pltsize = 20\n",
    "plt.figure(figsize=(pltsize, rt3by2*pltsize))\n",
    "plt.title(\"1%%Cr-Nb-Ni at %.0fK\"%temp, fontsize=18)\n",
    "plt.xlim([0,1])\n",
    "#plt.ylim([0,1.01*rmax])\n",
    "plt.xlabel(r'$x_\\mathrm{Nb}$', fontsize=24)\n",
    "plt.ylabel(r'$r$', fontsize=24)\n",
    "plt.yscale('log')\n",
    "for tie in tielines:\n",
    "    plt.plot(tie[0], tie[1], '-k', alpha=0.02)\n",
    "for i in range(len(labels)):\n",
    "    plt.scatter(X[i], Y[i], color=colors[i], s=2.5, label=labels[i])\n",
    "plt.legend(loc='best')\n",
    "plt.show()"
   ]
  },
  {
   "cell_type": "code",
   "execution_count": null,
   "metadata": {
    "collapsed": true
   },
   "outputs": [],
   "source": []
  }
 ],
 "metadata": {
  "kernelspec": {
   "display_name": "Python 2",
   "language": "python",
   "name": "python2"
  },
  "language_info": {
   "codemirror_mode": {
    "name": "ipython",
    "version": 2
   },
   "file_extension": ".py",
   "mimetype": "text/x-python",
   "name": "python",
   "nbconvert_exporter": "python",
   "pygments_lexer": "ipython2",
   "version": "2.7.12"
  }
 },
 "nbformat": 4,
 "nbformat_minor": 0
}
