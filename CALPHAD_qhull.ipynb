{
 "cells": [
  {
   "cell_type": "markdown",
   "metadata": {},
   "source": [
    "# Gibbs free energy expressions for IN625 from ternary CALPHAD DB"
   ]
  },
  {
   "cell_type": "markdown",
   "metadata": {},
   "source": [
    "This notebook extracts relevant thermodynamic functions necessary for the phase-field model of solid-state transformations in additive superalloy 625, represented as a ternary (Cr-Nb-Ni) with γ, δ, μ, and Laves phases competing. The thermodynamic database was prepared by U. Kattner after\n",
    "\n",
    "    @Article{Du2005,\n",
    "        Title                    = {A thermodynamic modeling of the Cr–Nb–Ni system },\n",
    "        Author                   = {Yong Du and Shuhong Liu and Y.A. Chang and Ying Yang},\n",
    "        Journal                  = {Calphad},\n",
    "        Year                     = {2005},\n",
    "        Volume                   = {29},\n",
    "        Number                   = {2},\n",
    "        Pages                    = {140 - 148},\n",
    "        Doi                      = {10.1016/j.calphad.2005.06.001}\n",
    "    }\n",
    "\n",
    "This database models the phases of interest as follows:\n",
    "- γ as $\\mathrm{(Cr, Nb, Ni)}$\n",
    "- δ as $\\mathrm{(\\mathbf{Nb}, Ni)_1(Cr, Nb, \\mathbf{Ni})_3}$\n",
    "- μ as $\\mathrm{Nb_6(Cr, Nb, Ni)_7}$\n",
    "- Laves as $\\mathrm{(Cr, \\mathbf{Nb})_1(\\mathbf{Cr}, Nb, Ni)_2}$\n",
    "\n",
    "The phase field model requires Gibbs free energies as functions of system compositions $x_\\mathrm{Cr}$, $x_\\mathrm{Nb}$, $x_\\mathrm{Ni}$. The Calphad database represents these energies as functions of sublattice compositions $y$ in each phase. To avoid solving for internal phase equilibrium at each point in the simulation, approximations have been made to allow the following one-to-one mappings between $x$ and $y$:\n",
    "- γ: no changes necessary\n",
    "    * $y_\\mathrm{Cr}' = x_\\mathrm{Cr}$     with $0\\leq x_\\mathrm{Cr}\\leq1$\n",
    "    * $y_\\mathrm{Nb}' = x_\\mathrm{Nb}$     with $0\\leq x_\\mathrm{Nb}\\leq1$\n",
    "    * $y_\\mathrm{Ni}' = x_\\mathrm{Ni}$     with $0\\leq x_\\mathrm{Ni}\\leq1$\n",
    "- δ: eliminate Nb from the second (Ni) sublattice, $\\mathrm{(\\mathbf{Nb}, Ni)_1(Cr, \\mathbf{Ni})_3}$\n",
    "    * $y_\\mathrm{Nb}'  = 4x_\\mathrm{Nb}$     with $0\\leq x_\\mathrm{Nb}\\leq\\frac{1}{4}$\n",
    "    * $y_\\mathrm{Ni}'  = 1-4x_\\mathrm{Nb}$   with $0\\leq x_\\mathrm{Nb}\\leq\\frac{1}{4}$\n",
    "    * $y_\\mathrm{Cr}'' = \\frac{4}{3}x_\\mathrm{Cr}$   with $0\\leq x_\\mathrm{Cr}\\leq\\frac{3}{4}$\n",
    "    * $y_\\mathrm{Ni}'' = 1-\\frac{4}{3}x_\\mathrm{Cr}$ with $0\\leq x_\\mathrm{Cr}\\leq\\frac{3}{4}$\n",
    "- μ: no changes necessary\n",
    "    * $y_\\mathrm{Nb}'  = 1$\n",
    "    * $y_\\mathrm{Cr}'' = x_\\mathrm{Cr}$      with $0\\leq x_\\mathrm{Cr}\\leq1$\n",
    "    * $y_\\mathrm{Nb}'' = \\frac{13}{7}x_\\mathrm{Nb}-\\frac{6}{7}$ with $\\frac{6}{13}\\leq x_\\mathrm{Nb}\\leq1$\n",
    "    * $y_\\mathrm{Ni}'' = x_\\mathrm{Ni}$      with $0\\leq x_\\mathrm{Ni}\\leq1$\n",
    "- Laves: eliminate Nb from the second (Cr) sublattice, $\\mathrm{(Cr, \\mathbf{Nb})_1(\\mathbf{Cr}, Ni)_2}$\n",
    "    * $y_\\mathrm{Cr}' = 1-3x_\\mathrm{Nb}$   with $0\\leq x_\\mathrm{Nb}\\leq\\frac{1}{3}$\n",
    "    * $y_\\mathrm{Nb}' = 3x_\\mathrm{Nb}$   with $0\\leq x_\\mathrm{Nb}\\leq\\frac{1}{3}$\n",
    "    * $y_\\mathrm{Cr}'' = 1-\\frac{3}{2}x_\\mathrm{Ni}$ with $0\\leq x_\\mathrm{Ni}\\leq\\frac{2}{3}$\n",
    "    * $y_\\mathrm{Ni}'' = \\frac{3}{2}x_\\mathrm{Ni}$ with $0\\leq x_\\mathrm{Ni}\\leq\\frac{2}{3}$"
   ]
  },
  {
   "cell_type": "code",
   "execution_count": 2,
   "metadata": {
    "collapsed": false
   },
   "outputs": [],
   "source": [
    "%matplotlib inline\n",
    "# Numerical libraries\n",
    "import numpy as np\n",
    "from scipy.optimize import fsolve\n",
    "from sympy.utilities.lambdify import lambdify\n",
    "from scipy.spatial import ConvexHull\n",
    "\n",
    "# Runtime / parallel libraries\n",
    "import time, warnings\n",
    "from itertools import chain\n",
    "from multiprocessing import Pool\n",
    "\n",
    "# Thermodynamics and computer-algebra libraries\n",
    "from pycalphad import Database, calculate, Model\n",
    "from sympy.utilities.codegen import codegen\n",
    "from sympy.parsing.sympy_parser import parse_expr\n",
    "from sympy import And, diff, Gt, Lt, Piecewise, simplify, symbols, sympify\n",
    "\n",
    "# Visualization libraries\n",
    "import matplotlib.pylab as plt\n",
    "from ipywidgets import FloatProgress\n",
    "from IPython.display import display\n",
    "\n",
    "# Constants\n",
    "fr13by7 = 13.0/7\n",
    "fr13by3 = 13.0/3\n",
    "fr13by4 = 13.0/4\n",
    "fr3by4 = 3.0/4\n",
    "fr4by3 = 4.0/3\n",
    "fr2by3 = 2.0/3\n",
    "fr1by3 = 1.0/3\n",
    "rt3by2 = np.sqrt(3.0)/2\n",
    "epsilon = 1e-8 # tolerance for comparing floating-point numbers to zero\n",
    "temp = 870.0 + 273.15 # 1143 Kelvin\n",
    "#temp = 1170.0 + 273.15 # Kelvin\n",
    "\n",
    "RT = 8.3144598*temp # J/mol/K"
   ]
  },
  {
   "cell_type": "code",
   "execution_count": 3,
   "metadata": {
    "collapsed": false
   },
   "outputs": [
    {
     "name": "stdout",
     "output_type": "stream",
     "text": [
      "Failed while parsing: SPECIES NB+2 NB1/+2\n",
      "Tokens: None\n"
     ]
    },
    {
     "ename": "ParseException",
     "evalue": "Expected \"ELEMENT\" (at char 7), (line:1, col:8)",
     "output_type": "error",
     "traceback": [
      "\u001b[0;31m---------------------------------------------------------------------------\u001b[0m",
      "\u001b[0;31mParseException\u001b[0m                            Traceback (most recent call last)",
      "\u001b[0;32m<ipython-input-3-08fceb2685bd>\u001b[0m in \u001b[0;36m<module>\u001b[0;34m()\u001b[0m\n\u001b[1;32m      3\u001b[0m \u001b[0;31m#tdb = Database('Thermotech_Cr-Nb-Ni_FCC-delta-mu-BCC.tdb')\u001b[0m\u001b[0;34m\u001b[0m\u001b[0;34m\u001b[0m\u001b[0m\n\u001b[1;32m      4\u001b[0m \u001b[0;31m#tdb = Database('Thermotech_Cr-Nb-Ni_FCC-delta-mu-BCC_simple.tdb')\u001b[0m\u001b[0;34m\u001b[0m\u001b[0;34m\u001b[0m\u001b[0m\n\u001b[0;32m----> 5\u001b[0;31m \u001b[0mtdb\u001b[0m \u001b[0;34m=\u001b[0m \u001b[0mDatabase\u001b[0m\u001b[0;34m(\u001b[0m\u001b[0;34m'Du_Cr-Nb-Ni_simple.tdb'\u001b[0m\u001b[0;34m)\u001b[0m\u001b[0;34m\u001b[0m\u001b[0m\n\u001b[0m",
      "\u001b[0;32m/users/tnk10/.conda/envs/mmsp/lib/python2.7/site-packages/pycalphad-0.3.6+26.g4b5c7bd-py2.7.egg/pycalphad/io/database.pyc\u001b[0m in \u001b[0;36m__new__\u001b[0;34m(cls, *args)\u001b[0m\n\u001b[1;32m    108\u001b[0m             \u001b[0;32melif\u001b[0m \u001b[0mfname\u001b[0m\u001b[0;34m.\u001b[0m\u001b[0mfind\u001b[0m\u001b[0;34m(\u001b[0m\u001b[0;34m'\\n'\u001b[0m\u001b[0;34m)\u001b[0m \u001b[0;34m==\u001b[0m \u001b[0;34m-\u001b[0m\u001b[0;36m1\u001b[0m\u001b[0;34m:\u001b[0m\u001b[0;34m\u001b[0m\u001b[0m\n\u001b[1;32m    109\u001b[0m                 \u001b[0;31m# Single-line string; it's probably a filename\u001b[0m\u001b[0;34m\u001b[0m\u001b[0;34m\u001b[0m\u001b[0m\n\u001b[0;32m--> 110\u001b[0;31m                 \u001b[0;32mreturn\u001b[0m \u001b[0mcls\u001b[0m\u001b[0;34m.\u001b[0m\u001b[0mfrom_file\u001b[0m\u001b[0;34m(\u001b[0m\u001b[0mfname\u001b[0m\u001b[0;34m,\u001b[0m \u001b[0mfmt\u001b[0m\u001b[0;34m=\u001b[0m\u001b[0mfmt\u001b[0m\u001b[0;34m)\u001b[0m\u001b[0;34m\u001b[0m\u001b[0m\n\u001b[0m\u001b[1;32m    111\u001b[0m             \u001b[0;32melse\u001b[0m\u001b[0;34m:\u001b[0m\u001b[0;34m\u001b[0m\u001b[0m\n\u001b[1;32m    112\u001b[0m                 \u001b[0;31m# Newlines found: probably a full database string\u001b[0m\u001b[0;34m\u001b[0m\u001b[0;34m\u001b[0m\u001b[0m\n",
      "\u001b[0;32m/users/tnk10/.conda/envs/mmsp/lib/python2.7/site-packages/pycalphad-0.3.6+26.g4b5c7bd-py2.7.egg/pycalphad/io/database.pyc\u001b[0m in \u001b[0;36mfrom_file\u001b[0;34m(fname, fmt)\u001b[0m\n\u001b[1;32m    199\u001b[0m         \u001b[0;32mtry\u001b[0m\u001b[0;34m:\u001b[0m\u001b[0;34m\u001b[0m\u001b[0m\n\u001b[1;32m    200\u001b[0m             \u001b[0mdbf\u001b[0m \u001b[0;34m=\u001b[0m \u001b[0mDatabase\u001b[0m\u001b[0;34m(\u001b[0m\u001b[0;34m)\u001b[0m\u001b[0;34m\u001b[0m\u001b[0m\n\u001b[0;32m--> 201\u001b[0;31m             \u001b[0mformat_registry\u001b[0m\u001b[0;34m[\u001b[0m\u001b[0mfmt\u001b[0m\u001b[0;34m.\u001b[0m\u001b[0mlower\u001b[0m\u001b[0;34m(\u001b[0m\u001b[0;34m)\u001b[0m\u001b[0;34m]\u001b[0m\u001b[0;34m.\u001b[0m\u001b[0mread\u001b[0m\u001b[0;34m(\u001b[0m\u001b[0mdbf\u001b[0m\u001b[0;34m,\u001b[0m \u001b[0mfd\u001b[0m\u001b[0;34m)\u001b[0m\u001b[0;34m\u001b[0m\u001b[0m\n\u001b[0m\u001b[1;32m    202\u001b[0m         \u001b[0;32mfinally\u001b[0m\u001b[0;34m:\u001b[0m\u001b[0;34m\u001b[0m\u001b[0m\n\u001b[1;32m    203\u001b[0m             \u001b[0;31m# Close file descriptors created in this routine\u001b[0m\u001b[0;34m\u001b[0m\u001b[0;34m\u001b[0m\u001b[0m\n",
      "\u001b[0;32m/users/tnk10/.conda/envs/mmsp/lib/python2.7/site-packages/pycalphad-0.3.6+26.g4b5c7bd-py2.7.egg/pycalphad/io/tdb.pyc\u001b[0m in \u001b[0;36mread_tdb\u001b[0;34m(dbf, fd)\u001b[0m\n\u001b[1;32m    773\u001b[0m         \u001b[0mtokens\u001b[0m \u001b[0;34m=\u001b[0m \u001b[0mNone\u001b[0m\u001b[0;34m\u001b[0m\u001b[0m\n\u001b[1;32m    774\u001b[0m         \u001b[0;32mtry\u001b[0m\u001b[0;34m:\u001b[0m\u001b[0;34m\u001b[0m\u001b[0m\n\u001b[0;32m--> 775\u001b[0;31m             \u001b[0mtokens\u001b[0m \u001b[0;34m=\u001b[0m \u001b[0m_tdb_grammar\u001b[0m\u001b[0;34m(\u001b[0m\u001b[0;34m)\u001b[0m\u001b[0;34m.\u001b[0m\u001b[0mparseString\u001b[0m\u001b[0;34m(\u001b[0m\u001b[0mcommand\u001b[0m\u001b[0;34m)\u001b[0m\u001b[0;34m\u001b[0m\u001b[0m\n\u001b[0m\u001b[1;32m    776\u001b[0m             \u001b[0m_TDB_PROCESSOR\u001b[0m\u001b[0;34m[\u001b[0m\u001b[0mtokens\u001b[0m\u001b[0;34m[\u001b[0m\u001b[0;36m0\u001b[0m\u001b[0;34m]\u001b[0m\u001b[0;34m]\u001b[0m\u001b[0;34m(\u001b[0m\u001b[0mdbf\u001b[0m\u001b[0;34m,\u001b[0m \u001b[0;34m*\u001b[0m\u001b[0mtokens\u001b[0m\u001b[0;34m[\u001b[0m\u001b[0;36m1\u001b[0m\u001b[0;34m:\u001b[0m\u001b[0;34m]\u001b[0m\u001b[0;34m)\u001b[0m\u001b[0;34m\u001b[0m\u001b[0m\n\u001b[1;32m    777\u001b[0m         \u001b[0;32mexcept\u001b[0m \u001b[0mParseException\u001b[0m\u001b[0;34m:\u001b[0m\u001b[0;34m\u001b[0m\u001b[0m\n",
      "\u001b[0;32m/users/tnk10/.conda/envs/mmsp/lib/python2.7/site-packages/pyparsing.pyc\u001b[0m in \u001b[0;36mparseString\u001b[0;34m(self, instring, parseAll)\u001b[0m\n\u001b[1;32m   1123\u001b[0m             \u001b[0;32melse\u001b[0m\u001b[0;34m:\u001b[0m\u001b[0;34m\u001b[0m\u001b[0m\n\u001b[1;32m   1124\u001b[0m                 \u001b[0;31m# catch and re-raise exception from here, clears out pyparsing internal stack trace\u001b[0m\u001b[0;34m\u001b[0m\u001b[0;34m\u001b[0m\u001b[0m\n\u001b[0;32m-> 1125\u001b[0;31m                 \u001b[0;32mraise\u001b[0m \u001b[0mexc\u001b[0m\u001b[0;34m\u001b[0m\u001b[0m\n\u001b[0m\u001b[1;32m   1126\u001b[0m         \u001b[0;32melse\u001b[0m\u001b[0;34m:\u001b[0m\u001b[0;34m\u001b[0m\u001b[0m\n\u001b[1;32m   1127\u001b[0m             \u001b[0;32mreturn\u001b[0m \u001b[0mtokens\u001b[0m\u001b[0;34m\u001b[0m\u001b[0m\n",
      "\u001b[0;31mParseException\u001b[0m: Expected \"ELEMENT\" (at char 7), (line:1, col:8)"
     ]
    }
   ],
   "source": [
    "#tdb = Database('mc_ni_v2.033.tdb')\n",
    "#tdb = Database('monbni-simple.tdb')\n",
    "#tdb = Database('Thermotech_Cr-Nb-Ni_FCC-delta-mu-BCC.tdb')\n",
    "#tdb = Database('Thermotech_Cr-Nb-Ni_FCC-delta-mu-BCC_simple.tdb')\n",
    "tdb = Database('Du_Cr-Nb-Ni_simple.tdb')"
   ]
  },
  {
   "cell_type": "code",
   "execution_count": null,
   "metadata": {
    "collapsed": true
   },
   "outputs": [],
   "source": [
    "# phases = ['FCC_A1', 'D0A_NBNI3', 'D85_NI7NB6', 'BCC_A2', 'LIQUID']\n",
    "phases = ['FCC_A1', 'D0A_NBNI3', 'D85_NI7NB6', 'BCC_A2', 'C14_LAVES', 'C15_LAVES']\n",
    "elements = ['CR', 'NB', 'NI']"
   ]
  },
  {
   "cell_type": "markdown",
   "metadata": {},
   "source": [
    "## Export Gibbs functions using SymPy"
   ]
  },
  {
   "cell_type": "code",
   "execution_count": null,
   "metadata": {
    "collapsed": false
   },
   "outputs": [],
   "source": [
    "c_gamma = list(set([i for c in tdb.phases['FCC_A1'].constituents for i in c]))\n",
    "m_gamma = Crdel(tdb, c_gamma, 'FCC_A1')\n",
    "g_gamma = parse_expr(str(m_gamma.ast))"
   ]
  },
  {
   "cell_type": "code",
   "execution_count": null,
   "metadata": {
    "collapsed": false
   },
   "outputs": [],
   "source": [
    "c_delta = list(set([i for c in tdb.phases['D0A_NBNI3'].constituents for i in c]))\n",
    "m_delta = Crdel(tdb, c_delta, 'D0A_NBNI3')\n",
    "g_delta = parse_expr(str(m_delta.ast))"
   ]
  },
  {
   "cell_type": "code",
   "execution_count": null,
   "metadata": {
    "collapsed": false
   },
   "outputs": [],
   "source": [
    "c_mu = list(set([i for c in tdb.phases['D85_NI7NB6'].constituents for i in c]))\n",
    "m_mu = Crdel(tdb, c_mu, 'D85_NI7NB6')\n",
    "g_mu = parse_expr(str(m_mu.ast))"
   ]
  },
  {
   "cell_type": "code",
   "execution_count": null,
   "metadata": {
    "collapsed": false
   },
   "outputs": [],
   "source": [
    "c_lavesHT = list(set([i for c in tdb.phases['C14_LAVES6'].constituents for i in c]))\n",
    "m_lavesHT = Crdel(tdb, c_lavesHT, 'C14_LAVES')\n",
    "g_lavesHT = parse_expr(str(m_lavesHT.ast))"
   ]
  },
  {
   "cell_type": "code",
   "execution_count": null,
   "metadata": {
    "collapsed": false
   },
   "outputs": [],
   "source": [
    "c_lavesLT = list(set([i for c in tdb.phases['C15_LAVES'].constituents for i in c]))\n",
    "m_lavesLT = Crdel(tdb, c_lavesLT, 'C15_LAVES')\n",
    "g_lavesLT = parse_expr(str(m_lavesLT.ast))"
   ]
  },
  {
   "cell_type": "code",
   "execution_count": null,
   "metadata": {
    "collapsed": false
   },
   "outputs": [],
   "source": [
    "c_bcc = list(set([i for c in tdb.phases['BCC_A2'].constituents for i in c]))\n",
    "m_bcc = Crdel(tdb, c_bcc, 'BCC_A2')\n",
    "g_bcc = parse_expr(str(m_bcc.ast))"
   ]
  },
  {
   "cell_type": "markdown",
   "metadata": {},
   "source": [
    "## Convert sublattice to phase composition (y to x)"
   ]
  },
  {
   "cell_type": "code",
   "execution_count": null,
   "metadata": {
    "collapsed": true
   },
   "outputs": [],
   "source": [
    "# Declare sublattice variables used in Pycalphad expressions\n",
    "# Gamma\n",
    "FCC_A10CR, FCC_A10NB, FCC_A10NI, FCC_A11VA = symbols('FCC_A10CR FCC_A10NB FCC_A10NI FCC_A11VA')\n",
    "# Delta\n",
    "D0A_NBNI30NI, D0A_NBNI30NB, D0A_NBNI31CR, D0A_NBNI31NB, D0A_NBNI31NI = symbols('D0A_NBNI30NI D0A_NBNI30NB D0A_NBNI31CR D0A_NBNI31NB D0A_NBNI31NI')\n",
    "# Mu\n",
    "D85_NI7NB60NI, D85_NI7NB61CR, D85_NI7NB61NB, D85_NI7NB62CR, D85_NI7NB62NB, D85_NI7NB62NI = symbols('D85_NI7NB60NI D85_NI7NB61CR D85_NI7NB61NB D85_NI7NB62CR D85_NI7NB62NB D85_NI7NB62NI')\n",
    "# Laves\n",
    "C14_LAVES0CR, C14_LAVES0NI, C14_LAVES1CR, C14_LAVES1NB = symbols('C14_LAVES0CR C14_LAVES0NI C14_LAVES1CR C14_LAVES1NB') \n",
    "C15_LAVES0CR, C15_LAVES0NI, C15_LAVES1CR, C15_LAVES1NB = symbols('C15_LAVES0CR C15_LAVES0NI C15_LAVES1CR C15_LAVES1NB') \n",
    "# BCC\n",
    "BCC_A20CR, BCC_A20NB, BCC_A20NI, BCC_A21VA = symbols('BCC_A20CR BCC_A20NB BCC_A20NI BCC_A21VA')\n",
    "# Temperature\n",
    "T = symbols('T')\n",
    "\n",
    "# Declare system variables for target expressions\n",
    "GAMMA_XCR, GAMMA_XNB, GAMMA_XNI = symbols('GAMMA_XCR GAMMA_XNB GAMMA_XNI')\n",
    "DELTA_XCR, DELTA_XNB, DELTA_XNI = symbols('DELTA_XCR DELTA_XNB DELTA_XNI')\n",
    "MU_XCR, MU_XNB, MU_XNI = symbols('MU_XCR MU_XNB MU_XNI')\n",
    "LAVES_XCR, LAVES_XNB, LAVES_XNI = symbols('LAVES_XCR LAVES_XNB LAVES_XNI')\n",
    "BCC_XCR, BCC_XNB, BCC_XNI = symbols('BCC_XCR BCC_XNB BCC_XNI')"
   ]
  },
  {
   "cell_type": "code",
   "execution_count": null,
   "metadata": {
    "collapsed": false
   },
   "outputs": [],
   "source": [
    "# Make substitutions\n",
    "        \n",
    "g_gamma = g_gamma.subs({FCC_A10CR: GAMMA_XCR,\n",
    "                        FCC_A10NB: GAMMA_XNB,\n",
    "                        FCC_A10NI: GAMMA_XNI,\n",
    "                        FCC_A11VA: 1,\n",
    "                        T: temp})\n",
    "\n",
    "# Approximate delta as a stoichiometric compound, (Cr,Nb,Ni)3(Nb,Ni) ==> (Cr,Ni)3(Nb,Ni)\n",
    "g_delta = Piecewise((g_delta.subs({\n",
    "                     D0A_NBNI30NI: 1.0 - 4.0*DELTA_XNB,\n",
    "                     D0A_NBNI30NB: 4.0*DELTA_XNB,\n",
    "                     D0A_NBNI31CR: fr4by3 * DELTA_XCR,\n",
    "                     D0A_NBNI31NI: 1.0 - fr4by3 * DELTA_XCR,\n",
    "                     T: temp}), \\\n",
    "                     And(Lt(DELTA_XCR, 0.75), Lt(DELTA_XNB, 0.25))),\n",
    "                    (0, True))\n",
    "\n",
    "g_mu = Piecewise((g_mu.subs({\n",
    "                  D85_NI7NB60NB: 1.0,\n",
    "                  D85_NI7NB61CR: fr13by7*MU_XCR,\n",
    "                  D85_NI7NB61NB: fr13by7*MU_XNI - fr6by7,\n",
    "                  D85_NI7NB61NI: fr13by7*MU_XNI,\n",
    "                  T: temp}), \\\n",
    "                  And(Lt(MU_XCR, fr7by13), Lt(MU_XNI, fr7by13), Gt(MU_XNB, fr6by13))),\n",
    "                (0, True))\n",
    "\n",
    "g_lavesHT = Piecewise((g_mu.subs({\n",
    "                  C14_LAVES0CR: 1.0 - fr3by2*LAVES_XNB,\n",
    "                  C14_LAVES0NI: fr3by2 * LAVES_XNI,\n",
    "                  C14_LAVES1CR: 1.0 - 3.0*LAVES_XNB,\n",
    "                  C14_LAVES0NB: 3.0 * LAVES_XNB\n",
    "                  T: temp}), \\\n",
    "                  And(Lt(LAVES_XNI, fr2by3), Lt(LAVES_XNB, fr1by3))),\n",
    "                (0, True))\n",
    "\n",
    "g_lavesLT = Piecewise((g_mu.subs({\n",
    "                  C15_LAVES0CR: 1.0 - fr3by2*LAVES_XNB,\n",
    "                  C15_LAVES0NI: fr3by2 * LAVES_XNI,\n",
    "                  C15_LAVES1CR: 1.0 - 3.0*LAVES_XNB,\n",
    "                  C15_LAVES0NB: 3.0 * LAVES_XNB\n",
    "                  T: temp}), \\\n",
    "                  And(Lt(LAVES_XNI, fr2by3), Lt(LAVES_XNB, fr1by3))),\n",
    "                (0, True))\n",
    "\n",
    "g_bcc = g_bcc.subs({BCC_A20CR: BCC_XCR,\n",
    "                    BCC_A20NB: BCC_XNB,\n",
    "                    BCC_A20NI: BCC_XNI,\n",
    "                    BCC_A21VA: 1.0,\n",
    "                    T: temp})"
   ]
  },
  {
   "cell_type": "code",
   "execution_count": null,
   "metadata": {
    "collapsed": false
   },
   "outputs": [],
   "source": [
    "# Generate numerically efficient system-composition expressions\n",
    "Gg = lambdify((GAMMA_XCR, GAMMA_XNB, GAMMA_XNI), g_gamma, modules='numpy')\n",
    "Gd = lambdify((DELTA_XCR, DELTA_XNB, DELTA_XNI), g_delta, modules='numpy')\n",
    "Gu = lambdify((MU_XCR, MU_XNB, MU_XNI), g_mu, modules='numpy')\n",
    "Gh = lambdify((LAVES_XCR, LAVES_XNB, LAVES_XNI), g_lavesHT, modules='numpy')\n",
    "Gl = lambdify((LAVES_XCR, LAVES_XNB, LAVES_XNI), g_lavesLT, modules='numpy')\n",
    "Gb = lambdify((BCC_XCR, BCC_XNB, BCC_XNI), g_bcc, modules='numpy')"
   ]
  },
  {
   "cell_type": "code",
   "execution_count": null,
   "metadata": {
    "collapsed": false
   },
   "outputs": [],
   "source": [
    "labels = [r'$\\gamma$', r'$\\delta$', r'$\\mu$', 'LavesHT', 'LavesLT', 'BCC']\n",
    "colors = ['red', 'green', 'blue', 'cyan', 'magenta', 'yellow']\n",
    "\n",
    "# plot Gibbs energy curves for fixed x_Cr = 1% to check mu stability\n",
    "if True:\n",
    "    xmo = 0.01\n",
    "    X = []\n",
    "    G = [[],[],[],[], [], []]\n",
    "\n",
    "    for xnb in np.linspace(epsilon,1,1001):\n",
    "        xni = 1-xmo-xnb\n",
    "        if xni>0:\n",
    "            X.append(xnb)\n",
    "            G[0].append(Gg(xmo,xnb,xni))\n",
    "            G[1].append(Gd(xmo,xnb,xni))\n",
    "            G[2].append(Gu(xmo,xnb,xni))\n",
    "            G[3].append(Gh(xmo,xnb,xni))\n",
    "            G[4].append(Gl(xmo,xnb,xni))\n",
    "            G[5].append(Gb(xmo,xnb,xni))\n",
    "\n",
    "    plt.figure(figsize=(8, 8))\n",
    "    plt.xlabel(r'$x_\\mathrm{Nb}$', fontsize=24)\n",
    "    plt.ylabel(r'$\\mathcal{G}$', fontsize=24)\n",
    "    plt.ylim([-100000, -40000])\n",
    "    for i in range(len(labels)):\n",
    "        plt.plot(X, G[i], color=colors[i], label=labels[i])\n",
    "    plt.legend(loc='best')"
   ]
  },
  {
   "cell_type": "code",
   "execution_count": null,
   "metadata": {
    "collapsed": false
   },
   "outputs": [],
   "source": [
    "# plot Gibbs energy curves for fixed x_Nb = 5% to check delta stability\n",
    "if True:\n",
    "    xnb = 0.05\n",
    "    X = []\n",
    "    G = [[],[],[],[], [], []]\n",
    "\n",
    "    for xmo in np.linspace(epsilon,1,1001):\n",
    "        xni = 1-xmo-xnb\n",
    "        if xni>0:\n",
    "            X.append(xmo)\n",
    "            G[0].append(Gg(xmo,xnb,xni))\n",
    "            G[1].append(Gd(xmo,xnb,xni))\n",
    "            G[2].append(Gu(xmo,xnb,xni))\n",
    "            G[3].append(Gh(xmo,xnb,xni))\n",
    "            G[4].append(Gl(xmo,xnb,xni))\n",
    "            G[5].append(Gb(xmo,xnb,xni))\n",
    "\n",
    "    plt.figure(figsize=(8, 8))\n",
    "    plt.xlabel(r'$x_\\mathrm{Cr}$', fontsize=24)\n",
    "    plt.ylabel(r'$\\mathcal{G}$', fontsize=24)\n",
    "    plt.ylim([-100000, -40000])\n",
    "    for i in range(len(labels)):\n",
    "        plt.plot(X, G[i], color=colors[i], label=labels[i])\n",
    "    plt.legend(loc='best')"
   ]
  },
  {
   "cell_type": "markdown",
   "metadata": {},
   "source": [
    "# Generate a phase diagram\n",
    "Using scipy.spatial.ConvexHull, an interface to qhull. This method cannot provide phase fractions, chemical potentials, etc., but will quickly produce the correct diagram from the given Gibbs energies."
   ]
  },
  {
   "cell_type": "code",
   "execution_count": null,
   "metadata": {
    "collapsed": true
   },
   "outputs": [],
   "source": [
    "# triangle bounding the Gibbs simplex\n",
    "XS = [0.0, 1.0, 0.5, 0.0]\n",
    "YS = [0.0, 0.0,rt3by2, 0.0]\n",
    "# triangle bounding three-phase coexistence\n",
    "XT = [0.25, 0.4875+0.025/2,0.5375+0.4625/2, 0.25]\n",
    "YT = [0.0,  0.025*rt3by2, 0.4625*rt3by2, 0.0]"
   ]
  },
  {
   "cell_type": "code",
   "execution_count": null,
   "metadata": {
    "collapsed": true
   },
   "outputs": [],
   "source": [
    "def computeKernelExclusive(n):\n",
    "    a = n / density # index along x-axis\n",
    "    b = n % density # index along y-axis\n",
    "\n",
    "    xnb = epsilon + 1.0*a / (density-1)\n",
    "    xmo = epsilon + 1.0*b / (density-1)\n",
    "    xni = 1.0 - xmo - xnb\n",
    "\n",
    "    result = [0]*9\n",
    "    \n",
    "    if xni>0:\n",
    "        result[0] = xmo\n",
    "        result[1] = xnb\n",
    "        result[2] = xni\n",
    "        result[3] = Gg(xmo,xnb,xni)\n",
    "        result[4] = Gd(xmo,xnb,xni)\n",
    "        result[5] = Gu(xmo,xnb,xni)\n",
    "        result[6] = Gh(xmo,xnb,xni)\n",
    "        result[7] = Gl(xmo,xnb,xni)\n",
    "        result[8] = Gb(xmo,xnb,xni)\n",
    "    \n",
    "    return result"
   ]
  },
  {
   "cell_type": "code",
   "execution_count": null,
   "metadata": {
    "collapsed": false,
    "scrolled": true
   },
   "outputs": [],
   "source": [
    "density = 101\n",
    "allCr = []\n",
    "allNb = []\n",
    "allG = []\n",
    "allID = []\n",
    "points = []\n",
    "phases = []\n",
    "\n",
    "if __name__ == '__main__':\n",
    "    starttime = time.time() # not exact, but multiprocessing makes time.clock() read from different cores\n",
    "\n",
    "    bar = FloatProgress(min=0,max=density**2)\n",
    "    display(bar)\n",
    "\n",
    "    pool = Pool(12)\n",
    "\n",
    "    i = 0\n",
    "    for result in pool.imap(computeKernelExclusive, range(density**2)):\n",
    "        xmo, xnb, xni, fg, fd, fu, fh, fl, fb = result\n",
    "        f = (fg, fd, fu, fh, fl, fb)\n",
    "\n",
    "        # Accumulate (x, y, G) points for each phase\n",
    "        if (fd**2 + fu**2 + fb**2) > epsilon:\n",
    "            for n in range(len(f)):\n",
    "                allCr.append(rt3by2*xmo)\n",
    "                allNb.append(xnb+xmo/2)\n",
    "                allG.append(f[n])\n",
    "                allID.append(n)\n",
    "        i += 1\n",
    "        bar.value = i\n",
    "\n",
    "    pool.close()\n",
    "    pool.join()\n",
    "    \n",
    "    points = np.array([allCr, allNb, allG]).T\n",
    "    \n",
    "    hull = ConvexHull(points)\n",
    "    \n",
    "    runtime = time.time() - starttime\n",
    "    print \"%ih:%im:%is elapsed\" % (int(runtime/3600), int(runtime/60)%60, int(runtime)%60)"
   ]
  },
  {
   "cell_type": "code",
   "execution_count": null,
   "metadata": {
    "collapsed": false
   },
   "outputs": [],
   "source": [
    "# Prepare arrays for plotting\n",
    "X = [[],[],[],[], [], []]\n",
    "Y = [[],[],[],[], [], []]\n",
    "tielines = []\n",
    "trilines = []\n",
    "\n",
    "for simplex in hull.simplices:\n",
    "    for i in simplex:\n",
    "        X[allID[i]].append(allNb[i])\n",
    "        Y[allID[i]].append(allCr[i])\n",
    "        for j in simplex:\n",
    "            if allID[i]==allID[j]:\n",
    "                pass\n",
    "            tielines.append([[allNb[i], allNb[j]],\n",
    "                             [allCr[i], allCr[j]]])"
   ]
  },
  {
   "cell_type": "code",
   "execution_count": null,
   "metadata": {
    "collapsed": false
   },
   "outputs": [],
   "source": [
    "# Plot phase diagram\n",
    "pltsize = 20\n",
    "plt.figure(figsize=(pltsize, rt3by2*pltsize))\n",
    "plt.title(\"Cr-Nb-Ni at %.0fK\"%temp, fontsize=18)\n",
    "plt.xlim([0,1])\n",
    "plt.ylim([0,rt3by2])\n",
    "plt.xlabel(r'$x_\\mathrm{Nb}$', fontsize=24)\n",
    "plt.ylabel(r'$x_\\mathrm{Cr}$', fontsize=24)\n",
    "plt.plot(XS, YS, '-k')\n",
    "for tie in tielines:\n",
    "    plt.plot(tie[0], tie[1], '-k', alpha=0.02)\n",
    "for i in range(len(labels)):\n",
    "    plt.scatter(X[i], Y[i], color=colors[i], s=2.5, label=labels[i])\n",
    "plt.legend(loc='best')\n",
    "plt.show()"
   ]
  },
  {
   "cell_type": "markdown",
   "metadata": {
    "collapsed": true
   },
   "source": [
    "## Interfacial Energy\n",
    "This is a naïve attempt to determine an appropriate interfacial energy for $\\mu$-phase by finding the balancing point of metastable equilibrium between $\\gamma$ and $\\mu$."
   ]
  },
  {
   "cell_type": "code",
   "execution_count": null,
   "metadata": {
    "collapsed": true
   },
   "outputs": [],
   "source": [
    "sigma_del = 1.01 # J/m**2\n",
    "sigma_mu = sigma_del / 20 # J/m**2\n",
    "rmax = 1.0e-8  # 1 mm\n",
    "rmin = 1.0e-14 # 0.1 μm\n",
    "Vm = 1.0e-5 # m**3/mol\n",
    "\n",
    "def computeKernelInterfacial(n):\n",
    "    a = n / density # index along x-axis\n",
    "    b = n % density # index along y-axis\n",
    "\n",
    "    m = (1.0 - epsilon)/(density - 1)\n",
    "    xnb = m * a + epsilon\n",
    "    \n",
    "    m = (rmax - rmin) / (density - 1)\n",
    "    r = rmin + m * b\n",
    "\n",
    "    xmo = 0.01 # constant, midpoint of mu phase field\n",
    "    xni = 1 - xmo - xnb\n",
    "\n",
    "    result = [0]*7\n",
    "    \n",
    "    if xni>0:\n",
    "        result[0] = b\n",
    "        result[1] = xnb\n",
    "        result[2] = xni\n",
    "        result[3] = Gg(xmo,xnb,xni)\n",
    "        result[4] = Gd(xmo,xnb,xni) + 2.0 * Vm * sigma_del / r\n",
    "        result[5] = Gu(xmo,xnb,xni) + 2.0 * Vm * sigma_mu / r\n",
    "        result[6] = Gb(xmo,xnb,xni)\n",
    "\n",
    "    return result"
   ]
  },
  {
   "cell_type": "code",
   "execution_count": null,
   "metadata": {
    "collapsed": false
   },
   "outputs": [],
   "source": [
    "labels = [r'$\\gamma$', r'$\\delta$', r'$\\mu$', 'BCC']\n",
    "colors = ['red', 'green','blue', 'yellow']\n",
    "\n",
    "# plot Gibbs energy curves for fixed x_Cr = 1% to check mu stability\n",
    "if True:\n",
    "    xmo = 0.01\n",
    "    X = []\n",
    "    G = [[],[],[],[]]\n",
    "    radius = 1.0e-4\n",
    "\n",
    "    for xnb in np.linspace(epsilon,1,1001):\n",
    "        xni = 1-xmo-xnb\n",
    "        if xni>0:\n",
    "            X.append(xnb)\n",
    "            G[0].append(Gg(xmo,xnb,xni))\n",
    "            G[1].append(Gd(xmo,xnb,xni) + 2.0 * Vm * sigma_del / radius)\n",
    "            G[2].append(Gu(xmo,xnb,xni) + 2.0 * Vm * sigma_mu / radius)\n",
    "            G[3].append(Gb(xmo,xnb,xni))\n",
    "\n",
    "    plt.figure(figsize=(8, 8))\n",
    "    plt.xlabel(r'$x_\\mathrm{Nb}$', fontsize=24)\n",
    "    plt.ylabel(r'$\\mathcal{G}$', fontsize=24)\n",
    "    plt.ylim([-80000, -50000])\n",
    "    for i in range(len(labels)):\n",
    "        plt.plot(X, G[i], color=colors[i], label=labels[i])\n",
    "    plt.legend(loc='best')"
   ]
  },
  {
   "cell_type": "code",
   "execution_count": null,
   "metadata": {
    "collapsed": false,
    "scrolled": true
   },
   "outputs": [],
   "source": [
    "density = 1001\n",
    "allR = []\n",
    "allNb = []\n",
    "allG = []\n",
    "allID = []\n",
    "points = []\n",
    "phases = []\n",
    "\n",
    "\n",
    "if __name__ == '__main__':\n",
    "    starttime = time.time() # not exact, but multiprocessing makes time.clock() read from different cores\n",
    "\n",
    "    bar = FloatProgress(min=0,max=density**2) #(density-1)/2) \n",
    "    display(bar)\n",
    "\n",
    "    pool = Pool(12)\n",
    "\n",
    "    i = 0\n",
    "    for result in pool.imap(computeKernelInterfacial, range(density**2)):\n",
    "        r, xnb, xni, fg, fd, fu, fb = result\n",
    "\n",
    "        # Accumulate (x, G) points for each phase\n",
    "        if xni>0:\n",
    "            f = (fg, fd, fu, fb)\n",
    "            for n in range(len(f)):\n",
    "                allR.append(r)\n",
    "                allNb.append(xnb)\n",
    "                allG.append(f[n])\n",
    "                allID.append(n)\n",
    "        i += 1\n",
    "        bar.value = i\n",
    "\n",
    "    pool.close() # not adding any more processes\n",
    "    pool.join() # wait until all threads are done before going on\n",
    "        \n",
    "    \n",
    "    runtime = time.time() - starttime\n",
    "    print \"%ih:%im:%is elapsed\" % (int(runtime/3600), int(runtime/60)%60, int(runtime)%60)"
   ]
  },
  {
   "cell_type": "code",
   "execution_count": null,
   "metadata": {
    "collapsed": false
   },
   "outputs": [],
   "source": [
    "# Prepare arrays for plotting\n",
    "X = [[],[],[],[]]\n",
    "Y = [[],[],[],[]]\n",
    "tielines = []\n",
    "\n",
    "for r in range(density):\n",
    "    myI = []\n",
    "    myR = []\n",
    "    myN = []\n",
    "    myG = []\n",
    "    for n in range(len(allR)):\n",
    "        if allR[n]==r:\n",
    "            myI.append(allID[n]) # phase ID\n",
    "            myR.append(rmin + allR[n] * (rmax - rmin) / (density - 1))  # radius\n",
    "            myN.append(allNb[n]) # Nb conc\n",
    "            myG.append(allG[n])  # Gibbs energy\n",
    "    points = np.array([myN, myG]).T\n",
    "    hull = ConvexHull(points)\n",
    "\n",
    "    for simplex in hull.simplices:\n",
    "        for i in simplex:\n",
    "            Y[myI[i]].append(myR[i])\n",
    "            X[myI[i]].append(myN[i])\n",
    "            for j in simplex:\n",
    "                if myI[i]==myI[j]:\n",
    "                    pass\n",
    "                tielines.append([[myN[i], myN[j]],\n",
    "                                 [myR[i], myR[j]]])"
   ]
  },
  {
   "cell_type": "code",
   "execution_count": null,
   "metadata": {
    "collapsed": false
   },
   "outputs": [],
   "source": [
    "# Plot phase diagram\n",
    "pltsize = 20\n",
    "plt.figure(figsize=(pltsize, rt3by2*pltsize))\n",
    "plt.title(\"1%%Cr-Nb-Ni at %.0fK\"%temp, fontsize=18)\n",
    "plt.xlim([0,1])\n",
    "#plt.ylim([0,1.01*rmax])\n",
    "plt.xlabel(r'$x_\\mathrm{Nb}$', fontsize=24)\n",
    "plt.ylabel(r'$r$', fontsize=24)\n",
    "plt.yscale('log')\n",
    "for tie in tielines:\n",
    "    plt.plot(tie[0], tie[1], '-k', alpha=0.02)\n",
    "for i in range(len(labels)):\n",
    "    plt.scatter(X[i], Y[i], color=colors[i], s=2.5, label=labels[i])\n",
    "plt.legend(loc='best')\n",
    "plt.show()"
   ]
  },
  {
   "cell_type": "code",
   "execution_count": null,
   "metadata": {
    "collapsed": true
   },
   "outputs": [],
   "source": []
  }
 ],
 "metadata": {
  "kernelspec": {
   "display_name": "Python 2",
   "language": "python",
   "name": "python2"
  },
  "language_info": {
   "codemirror_mode": {
    "name": "ipython",
    "version": 2
   },
   "file_extension": ".py",
   "mimetype": "text/x-python",
   "name": "python",
   "nbconvert_exporter": "python",
   "pygments_lexer": "ipython2",
   "version": "2.7.12"
  }
 },
 "nbformat": 4,
 "nbformat_minor": 0
}
