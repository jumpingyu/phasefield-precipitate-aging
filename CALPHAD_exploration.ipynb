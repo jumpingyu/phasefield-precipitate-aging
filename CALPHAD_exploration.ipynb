{
 "cells": [
  {
   "cell_type": "markdown",
   "metadata": {},
   "source": [
    "# Ternary free energy surface for IN625 from toy CALPHAD DB"
   ]
  },
  {
   "cell_type": "code",
   "execution_count": 7,
   "metadata": {
    "collapsed": false
   },
   "outputs": [],
   "source": [
    "%matplotlib inline\n",
    "import matplotlib.pyplot as plt\n",
    "import numpy as np\n",
    "import ternary\n",
    "from pycalphad import Database, calculate, Model\n",
    "from scipy.optimize import curve_fit\n",
    "from scipy.interpolate import SmoothBivariateSpline\n",
    "from IPython.display import display\n",
    "#from sympy import init_printing\n",
    "#init_printing()\n",
    "from sympy import ccode\n",
    "\n",
    "simplex_res = 50"
   ]
  },
  {
   "cell_type": "code",
   "execution_count": 2,
   "metadata": {
    "collapsed": false
   },
   "outputs": [],
   "source": [
    "#tdb = Database('mc_ni_v2.033.tdb')\n",
    "tdb = Database('NiNbMo_FccDeltaMu_Thermotech.TDB')"
   ]
  },
  {
   "cell_type": "code",
   "execution_count": 3,
   "metadata": {
    "collapsed": true
   },
   "outputs": [],
   "source": [
    "phases = ['LIQUID', 'FCC_A1', 'MU_PHASE', 'DELTA']\n",
    "elements = ['NI', 'MO', 'NB', 'VA']\n",
    "temp = 800 + 273.15 # Kelvin"
   ]
  },
  {
   "cell_type": "markdown",
   "metadata": {},
   "source": [
    "## Look into pycalphad.model"
   ]
  },
  {
   "cell_type": "code",
   "execution_count": 52,
   "metadata": {
    "collapsed": false,
    "scrolled": false
   },
   "outputs": [],
   "source": [
    "#tdb.phases['MU_PHASE']\n",
    "constituents = list(set([i for c in tdb.phases['MU_PHASE'].constituents for i in c]))\n",
    "m = Model(tdb, constituents, 'MU_PHASE')\n",
    "#ccode(m.ast)\n",
    "m.ast.xreplace?"
   ]
  },
  {
   "cell_type": "code",
   "execution_count": 60,
   "metadata": {
    "collapsed": false
   },
   "outputs": [
    {
     "name": "stdout",
     "output_type": "stream",
     "text": [
      "0.0769230769230769*MU_PHASE0NI*MU_PHASE1MO*Piecewise((-100*T + 9*Piecewise((-0.0048407*T**2 - 22.096*T*log(T) + 117.854*T - 5179.159, And(T < 1728.0, T >= 298.14)), (-43.1*T*log(T) + 279.135*T - 27840.655 + 1.12754e+31/T**9, And(T < 3000.0, T >= 1728.0)), (0, True)) + 4*Piecewise((-1.309265e-10*T**4 + 5.66283e-7*T**3 - 0.003443396*T**2 - 23.56414*T*log(T) + 131.9197*T - 7746.302 + 65812/T, And(T < 2896.0, T >= 298.14)), (-42.63829*T*log(T) + 283.559746*T - 30556.41 - 4.849315e+33/T**9, And(T < 4000.0, T >= 2896.0)), (0, True)) + 156150, And(T < 6000.0, T >= 298.15)), (0, True)) + 0.0769230769230769*MU_PHASE0NI*MU_PHASE1NB*Piecewise((50*T + 9*Piecewise((-0.0048407*T**2 - 22.096*T*log(T) + 117.854*T - 5179.159, And(T < 1728.0, T >= 298.14)), (-43.1*T*log(T) + 279.135*T - 27840.655 + 1.12754e+31/T**9, And(T < 3000.0, T >= 1728.0)), (0, True)) + 4*Piecewise((-3.50119e-7*T**3 + 0.000203475*T**2 - 26.4711*T*log(T) + 142.045475*T - 8519.353 + 93399/T, And(T < 2750.0, T >= 298.14)), (-41.77*T*log(T) + 271.720843*T - 37669.3 + 1.52824e+32/T**9, And(T < 6000.0, T >= 2750.0)), (0, True)) - 258000, And(T < 6000.0, T >= 298.15)), (0, True)) + 0.0769230769230769*MU_PHASE0NI*MU_PHASE2MO*(MU_PHASE1MO + MU_PHASE1NB)*Piecewise((80*T - 145000, And(T < 6000.0, T >= 298.15)), (0, True)) + 0.0769230769230769*MU_PHASE0NI*MU_PHASE2NB*(MU_PHASE1MO + MU_PHASE1NB)*Piecewise((25*T - 90000, And(T < 6000.0, T >= 298.15)), (0, True)) + 1.91873076923077*T*Piecewise((log(MU_PHASE2NI) + 1, MU_PHASE2NI > 1.0e-13), (0, True))\n"
     ]
    }
   ],
   "source": [
    "from sympy.parsing.sympy_parser import parse_expr\n",
    "from sympy import diff, symbols\n",
    "x_mu_Ni, x_mu_Mo, x_mu_Nb = symbols('x_mu_Ni x_mu_Mo x_mu_Nb')\n",
    "MU_PHASE2NI, MU_PHASE2MO, MU_PHASE2NB = symbols('MU_PHASE2NI MU_PHASE2MO MU_PHASE2NB')\n",
    "expr = parse_expr(str(m.ast)) #.xreplace(MU_PHASE2NI: x_mu_Ni)#, MU_PHASE2MO: x_mu_Mo, MU_PHASE2NB: x_mu_Nb) #parse_expr(str(m.ast))\n",
    "#print expr\n",
    "\n",
    "dm = diff(expr, MU_PHASE2NI)\n",
    "print dm"
   ]
  },
  {
   "cell_type": "markdown",
   "metadata": {},
   "source": [
    "## Visualize free energy of γ"
   ]
  },
  {
   "cell_type": "code",
   "execution_count": null,
   "metadata": {
    "collapsed": false
   },
   "outputs": [],
   "source": [
    "gamma_data = calculate(tdb, elements, 'FCC_A1', T=temp, output='GM')\n",
    "gamma_x_Ni = np.ravel(gamma_data.X.sel(component='NI'))\n",
    "gamma_x_Al = np.ravel(gamma_data.X.sel(component='MO'))\n",
    "gamma_x_Nb = np.ravel(gamma_data.X.sel(component='NB'))\n",
    "gamma_z = np.ravel(gamma_data.GM)\n",
    "\n",
    "gamma_interp = SmoothBivariateSpline(gamma_x_Al, gamma_x_Nb, gamma_z)"
   ]
  },
  {
   "cell_type": "code",
   "execution_count": null,
   "metadata": {
    "collapsed": false
   },
   "outputs": [],
   "source": [
    "def gamma_f(p):\n",
    "    return float(gamma_interp(p[0], p[1]))\n",
    "\n",
    "figure, tax = ternary.figure(scale=simplex_res)\n",
    "\n",
    "tax.heatmapf(gamma_f, boundary=True, style=\"triangular\")\n",
    "tax.boundary(linewidth=2.0)\n",
    "tax.set_title(r'$\\mathcal{G}_{\\gamma}$',fontsize=20)\n",
    "\n",
    "tax.show()"
   ]
  },
  {
   "cell_type": "markdown",
   "metadata": {},
   "source": [
    "## Visualize free energy of μ"
   ]
  },
  {
   "cell_type": "code",
   "execution_count": null,
   "metadata": {
    "collapsed": false
   },
   "outputs": [],
   "source": [
    "mu_data = calculate(tdb, elements, 'MU_phase', T=temp, output='GM')\n",
    "mu_x_Ni = np.ravel(mu_data.X.sel(component='NI'))\n",
    "mu_x_Al = np.ravel(mu_data.X.sel(component='MO'))\n",
    "mu_x_Nb = np.ravel(mu_data.X.sel(component='NB'))\n",
    "mu_z = np.ravel(mu_data.GM)\n",
    "\n",
    "mu_interp = SmoothBivariateSpline(mu_x_Al, mu_x_Nb, mu_z)"
   ]
  },
  {
   "cell_type": "code",
   "execution_count": null,
   "metadata": {
    "collapsed": false
   },
   "outputs": [],
   "source": [
    "def mu_f(p):\n",
    "    return float(mu_interp(p[0], p[1]))\n",
    "\n",
    "figure, tax = ternary.figure(scale=simplex_res)\n",
    "\n",
    "tax.heatmapf(mu_f, boundary=True, style=\"triangular\")\n",
    "tax.boundary(linewidth=2.0)\n",
    "tax.set_title(r'$\\mathcal{G}_{\\gamma\\prime}$',fontsize=20)\n",
    "\n",
    "tax.show()"
   ]
  },
  {
   "cell_type": "markdown",
   "metadata": {},
   "source": [
    "## Visualize free energy of 𝛿"
   ]
  },
  {
   "cell_type": "code",
   "execution_count": null,
   "metadata": {
    "collapsed": false
   },
   "outputs": [],
   "source": [
    "delta_data = calculate(tdb, elements, 'delta', T=temp, output='GM')\n",
    "delta_x_Ni = np.ravel(delta_data.X.sel(component='NI'))\n",
    "delta_x_Al = np.ravel(delta_data.X.sel(component='MO'))\n",
    "delta_x_Nb = np.ravel(delta_data.X.sel(component='NB'))\n",
    "delta_z = np.ravel(delta_data.GM)\n",
    "\n",
    "delta_interp = SmoothBivariateSpline(delta_x_Al, delta_x_Nb, delta_z)"
   ]
  },
  {
   "cell_type": "code",
   "execution_count": null,
   "metadata": {
    "collapsed": false
   },
   "outputs": [],
   "source": [
    "def delta_f(p):\n",
    "    return float(delta_interp(p[0], p[1]))\n",
    "\n",
    "figure, tax = ternary.figure(scale=simplex_res)\n",
    "\n",
    "tax.heatmapf(delta_f, boundary=True, style=\"triangular\")\n",
    "tax.boundary(linewidth=2.0)\n",
    "tax.set_title(r'$\\mathcal{G}_{\\gamma\\prime\\prime}$',fontsize=20)\n",
    "\n",
    "tax.show()"
   ]
  },
  {
   "cell_type": "code",
   "execution_count": null,
   "metadata": {
    "collapsed": true
   },
   "outputs": [],
   "source": []
  }
 ],
 "metadata": {
  "kernelspec": {
   "display_name": "Python 2",
   "language": "python",
   "name": "python2"
  },
  "language_info": {
   "codemirror_mode": {
    "name": "ipython",
    "version": 2
   },
   "file_extension": ".py",
   "mimetype": "text/x-python",
   "name": "python",
   "nbconvert_exporter": "python",
   "pygments_lexer": "ipython2",
   "version": "2.7.12"
  }
 },
 "nbformat": 4,
 "nbformat_minor": 0
}
